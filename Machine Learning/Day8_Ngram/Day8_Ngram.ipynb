{
  "nbformat": 4,
  "nbformat_minor": 0,
  "metadata": {
    "colab": {
      "name": "Day8_Ngram.ipynb",
      "provenance": []
    },
    "kernelspec": {
      "name": "python3",
      "display_name": "Python 3"
    },
    "language_info": {
      "name": "python"
    }
  },
  "cells": [
    {
      "cell_type": "markdown",
      "metadata": {
        "id": "Hql9Fm8EifUy"
      },
      "source": [
        "## Why do we need Markov Chain to compute language models?"
      ]
    },
    {
      "cell_type": "markdown",
      "metadata": {
        "id": "nyNUgZIDin0M"
      },
      "source": [
        "<p> Answer: Markov Chains can calculate the conditional probabilities of a finite set of states, so it can handle a long sentence as long as it is finite. Moreover, it is able to jump to other states given the probability. Hence, it can simplify the calculations of conditional probabilities.</p>"
      ]
    },
    {
      "cell_type": "markdown",
      "metadata": {
        "id": "xRLZ0E9qjNYB"
      },
      "source": [
        "## Utilize Bigram Models"
      ]
    },
    {
      "cell_type": "code",
      "metadata": {
        "colab": {
          "base_uri": "https://localhost:8080/",
          "height": 80
        },
        "id": "45KCY9AKiUR4",
        "outputId": "57280c2b-8efd-4d03-8272-24089298ac57"
      },
      "source": [
        "import numpy as np\n",
        "import pandas as pd\n",
        "words = ['i', 'want', 'to', 'eat', 'chinese', 'food', 'lunch', 'spend']\n",
        "word_cnts = np.array([2533, 927, 2417, 746, 158, 1093, 341, 278]).reshape(1, -1)\n",
        "df_word_cnts = pd.DataFrame(word_cnts, columns=words)\n",
        "df_word_cnts"
      ],
      "execution_count": 1,
      "outputs": [
        {
          "output_type": "execute_result",
          "data": {
            "text/html": [
              "<div>\n",
              "<style scoped>\n",
              "    .dataframe tbody tr th:only-of-type {\n",
              "        vertical-align: middle;\n",
              "    }\n",
              "\n",
              "    .dataframe tbody tr th {\n",
              "        vertical-align: top;\n",
              "    }\n",
              "\n",
              "    .dataframe thead th {\n",
              "        text-align: right;\n",
              "    }\n",
              "</style>\n",
              "<table border=\"1\" class=\"dataframe\">\n",
              "  <thead>\n",
              "    <tr style=\"text-align: right;\">\n",
              "      <th></th>\n",
              "      <th>i</th>\n",
              "      <th>want</th>\n",
              "      <th>to</th>\n",
              "      <th>eat</th>\n",
              "      <th>chinese</th>\n",
              "      <th>food</th>\n",
              "      <th>lunch</th>\n",
              "      <th>spend</th>\n",
              "    </tr>\n",
              "  </thead>\n",
              "  <tbody>\n",
              "    <tr>\n",
              "      <th>0</th>\n",
              "      <td>2533</td>\n",
              "      <td>927</td>\n",
              "      <td>2417</td>\n",
              "      <td>746</td>\n",
              "      <td>158</td>\n",
              "      <td>1093</td>\n",
              "      <td>341</td>\n",
              "      <td>278</td>\n",
              "    </tr>\n",
              "  </tbody>\n",
              "</table>\n",
              "</div>"
            ],
            "text/plain": [
              "      i  want    to  eat  chinese  food  lunch  spend\n",
              "0  2533   927  2417  746      158  1093    341    278"
            ]
          },
          "metadata": {
            "tags": []
          },
          "execution_count": 1
        }
      ]
    },
    {
      "cell_type": "code",
      "metadata": {
        "colab": {
          "base_uri": "https://localhost:8080/",
          "height": 297
        },
        "id": "Mi1HyjRejSxC",
        "outputId": "bb34eb42-526a-4771-ac55-09694f8ed23d"
      },
      "source": [
        "bigram_word_cnts = [[5, 827, 0, 9, 0, 0, 0, 2], [2, 0, 608, 1, 6, 6, 5, 1], [2, 0, 4, 686, 2, 0, 6, 211],\n",
        "                    [0, 0, 2, 0, 16, 2, 42, 0], [1, 0, 0, 0, 0, 82, 1, 0], [15, 0, 15, 0, 1, 4, 0, 0],\n",
        "                    [2, 0, 0, 0, 0, 1, 0, 0], [1, 0, 1, 0, 0, 0, 0, 0]]\n",
        "\n",
        "df_bigram_word_cnts = pd.DataFrame(bigram_word_cnts, columns=words, index=words)\n",
        "df_bigram_word_cnts"
      ],
      "execution_count": 2,
      "outputs": [
        {
          "output_type": "execute_result",
          "data": {
            "text/html": [
              "<div>\n",
              "<style scoped>\n",
              "    .dataframe tbody tr th:only-of-type {\n",
              "        vertical-align: middle;\n",
              "    }\n",
              "\n",
              "    .dataframe tbody tr th {\n",
              "        vertical-align: top;\n",
              "    }\n",
              "\n",
              "    .dataframe thead th {\n",
              "        text-align: right;\n",
              "    }\n",
              "</style>\n",
              "<table border=\"1\" class=\"dataframe\">\n",
              "  <thead>\n",
              "    <tr style=\"text-align: right;\">\n",
              "      <th></th>\n",
              "      <th>i</th>\n",
              "      <th>want</th>\n",
              "      <th>to</th>\n",
              "      <th>eat</th>\n",
              "      <th>chinese</th>\n",
              "      <th>food</th>\n",
              "      <th>lunch</th>\n",
              "      <th>spend</th>\n",
              "    </tr>\n",
              "  </thead>\n",
              "  <tbody>\n",
              "    <tr>\n",
              "      <th>i</th>\n",
              "      <td>5</td>\n",
              "      <td>827</td>\n",
              "      <td>0</td>\n",
              "      <td>9</td>\n",
              "      <td>0</td>\n",
              "      <td>0</td>\n",
              "      <td>0</td>\n",
              "      <td>2</td>\n",
              "    </tr>\n",
              "    <tr>\n",
              "      <th>want</th>\n",
              "      <td>2</td>\n",
              "      <td>0</td>\n",
              "      <td>608</td>\n",
              "      <td>1</td>\n",
              "      <td>6</td>\n",
              "      <td>6</td>\n",
              "      <td>5</td>\n",
              "      <td>1</td>\n",
              "    </tr>\n",
              "    <tr>\n",
              "      <th>to</th>\n",
              "      <td>2</td>\n",
              "      <td>0</td>\n",
              "      <td>4</td>\n",
              "      <td>686</td>\n",
              "      <td>2</td>\n",
              "      <td>0</td>\n",
              "      <td>6</td>\n",
              "      <td>211</td>\n",
              "    </tr>\n",
              "    <tr>\n",
              "      <th>eat</th>\n",
              "      <td>0</td>\n",
              "      <td>0</td>\n",
              "      <td>2</td>\n",
              "      <td>0</td>\n",
              "      <td>16</td>\n",
              "      <td>2</td>\n",
              "      <td>42</td>\n",
              "      <td>0</td>\n",
              "    </tr>\n",
              "    <tr>\n",
              "      <th>chinese</th>\n",
              "      <td>1</td>\n",
              "      <td>0</td>\n",
              "      <td>0</td>\n",
              "      <td>0</td>\n",
              "      <td>0</td>\n",
              "      <td>82</td>\n",
              "      <td>1</td>\n",
              "      <td>0</td>\n",
              "    </tr>\n",
              "    <tr>\n",
              "      <th>food</th>\n",
              "      <td>15</td>\n",
              "      <td>0</td>\n",
              "      <td>15</td>\n",
              "      <td>0</td>\n",
              "      <td>1</td>\n",
              "      <td>4</td>\n",
              "      <td>0</td>\n",
              "      <td>0</td>\n",
              "    </tr>\n",
              "    <tr>\n",
              "      <th>lunch</th>\n",
              "      <td>2</td>\n",
              "      <td>0</td>\n",
              "      <td>0</td>\n",
              "      <td>0</td>\n",
              "      <td>0</td>\n",
              "      <td>1</td>\n",
              "      <td>0</td>\n",
              "      <td>0</td>\n",
              "    </tr>\n",
              "    <tr>\n",
              "      <th>spend</th>\n",
              "      <td>1</td>\n",
              "      <td>0</td>\n",
              "      <td>1</td>\n",
              "      <td>0</td>\n",
              "      <td>0</td>\n",
              "      <td>0</td>\n",
              "      <td>0</td>\n",
              "      <td>0</td>\n",
              "    </tr>\n",
              "  </tbody>\n",
              "</table>\n",
              "</div>"
            ],
            "text/plain": [
              "          i  want   to  eat  chinese  food  lunch  spend\n",
              "i         5   827    0    9        0     0      0      2\n",
              "want      2     0  608    1        6     6      5      1\n",
              "to        2     0    4  686        2     0      6    211\n",
              "eat       0     0    2    0       16     2     42      0\n",
              "chinese   1     0    0    0        0    82      1      0\n",
              "food     15     0   15    0        1     4      0      0\n",
              "lunch     2     0    0    0        0     1      0      0\n",
              "spend     1     0    1    0        0     0      0      0"
            ]
          },
          "metadata": {
            "tags": []
          },
          "execution_count": 2
        }
      ]
    },
    {
      "cell_type": "code",
      "metadata": {
        "colab": {
          "base_uri": "https://localhost:8080/",
          "height": 317
        },
        "id": "5QyogYRJjY0B",
        "outputId": "5bf74495-b777-4279-88e8-8395b3d34aa2"
      },
      "source": [
        "df_bigram_prob = df_bigram_word_cnts.copy()\n",
        "#df_bigram_prob = df_bigram_prob/np.sum(bigram_word_cnts)\n",
        "for word in words:\n",
        "  df_bigram_prob.loc[word,:] = df_bigram_prob.loc[word, :]/df_word_cnts.loc[0, word]\n",
        "df_bigram_prob"
      ],
      "execution_count": 6,
      "outputs": [
        {
          "output_type": "execute_result",
          "data": {
            "text/html": [
              "<div>\n",
              "<style scoped>\n",
              "    .dataframe tbody tr th:only-of-type {\n",
              "        vertical-align: middle;\n",
              "    }\n",
              "\n",
              "    .dataframe tbody tr th {\n",
              "        vertical-align: top;\n",
              "    }\n",
              "\n",
              "    .dataframe thead th {\n",
              "        text-align: right;\n",
              "    }\n",
              "</style>\n",
              "<table border=\"1\" class=\"dataframe\">\n",
              "  <thead>\n",
              "    <tr style=\"text-align: right;\">\n",
              "      <th></th>\n",
              "      <th>i</th>\n",
              "      <th>want</th>\n",
              "      <th>to</th>\n",
              "      <th>eat</th>\n",
              "      <th>chinese</th>\n",
              "      <th>food</th>\n",
              "      <th>lunch</th>\n",
              "      <th>spend</th>\n",
              "    </tr>\n",
              "  </thead>\n",
              "  <tbody>\n",
              "    <tr>\n",
              "      <th>i</th>\n",
              "      <td>0.001974</td>\n",
              "      <td>0.32649</td>\n",
              "      <td>0.000000</td>\n",
              "      <td>0.003553</td>\n",
              "      <td>0.000000</td>\n",
              "      <td>0.000000</td>\n",
              "      <td>0.000000</td>\n",
              "      <td>0.000790</td>\n",
              "    </tr>\n",
              "    <tr>\n",
              "      <th>want</th>\n",
              "      <td>0.002157</td>\n",
              "      <td>0.00000</td>\n",
              "      <td>0.655879</td>\n",
              "      <td>0.001079</td>\n",
              "      <td>0.006472</td>\n",
              "      <td>0.006472</td>\n",
              "      <td>0.005394</td>\n",
              "      <td>0.001079</td>\n",
              "    </tr>\n",
              "    <tr>\n",
              "      <th>to</th>\n",
              "      <td>0.000827</td>\n",
              "      <td>0.00000</td>\n",
              "      <td>0.001655</td>\n",
              "      <td>0.283823</td>\n",
              "      <td>0.000827</td>\n",
              "      <td>0.000000</td>\n",
              "      <td>0.002482</td>\n",
              "      <td>0.087298</td>\n",
              "    </tr>\n",
              "    <tr>\n",
              "      <th>eat</th>\n",
              "      <td>0.000000</td>\n",
              "      <td>0.00000</td>\n",
              "      <td>0.002681</td>\n",
              "      <td>0.000000</td>\n",
              "      <td>0.021448</td>\n",
              "      <td>0.002681</td>\n",
              "      <td>0.056300</td>\n",
              "      <td>0.000000</td>\n",
              "    </tr>\n",
              "    <tr>\n",
              "      <th>chinese</th>\n",
              "      <td>0.006329</td>\n",
              "      <td>0.00000</td>\n",
              "      <td>0.000000</td>\n",
              "      <td>0.000000</td>\n",
              "      <td>0.000000</td>\n",
              "      <td>0.518987</td>\n",
              "      <td>0.006329</td>\n",
              "      <td>0.000000</td>\n",
              "    </tr>\n",
              "    <tr>\n",
              "      <th>food</th>\n",
              "      <td>0.013724</td>\n",
              "      <td>0.00000</td>\n",
              "      <td>0.013724</td>\n",
              "      <td>0.000000</td>\n",
              "      <td>0.000915</td>\n",
              "      <td>0.003660</td>\n",
              "      <td>0.000000</td>\n",
              "      <td>0.000000</td>\n",
              "    </tr>\n",
              "    <tr>\n",
              "      <th>lunch</th>\n",
              "      <td>0.005865</td>\n",
              "      <td>0.00000</td>\n",
              "      <td>0.000000</td>\n",
              "      <td>0.000000</td>\n",
              "      <td>0.000000</td>\n",
              "      <td>0.002933</td>\n",
              "      <td>0.000000</td>\n",
              "      <td>0.000000</td>\n",
              "    </tr>\n",
              "    <tr>\n",
              "      <th>spend</th>\n",
              "      <td>0.003597</td>\n",
              "      <td>0.00000</td>\n",
              "      <td>0.003597</td>\n",
              "      <td>0.000000</td>\n",
              "      <td>0.000000</td>\n",
              "      <td>0.000000</td>\n",
              "      <td>0.000000</td>\n",
              "      <td>0.000000</td>\n",
              "    </tr>\n",
              "  </tbody>\n",
              "</table>\n",
              "</div>"
            ],
            "text/plain": [
              "                i     want        to  ...      food     lunch     spend\n",
              "i        0.001974  0.32649  0.000000  ...  0.000000  0.000000  0.000790\n",
              "want     0.002157  0.00000  0.655879  ...  0.006472  0.005394  0.001079\n",
              "to       0.000827  0.00000  0.001655  ...  0.000000  0.002482  0.087298\n",
              "eat      0.000000  0.00000  0.002681  ...  0.002681  0.056300  0.000000\n",
              "chinese  0.006329  0.00000  0.000000  ...  0.518987  0.006329  0.000000\n",
              "food     0.013724  0.00000  0.013724  ...  0.003660  0.000000  0.000000\n",
              "lunch    0.005865  0.00000  0.000000  ...  0.002933  0.000000  0.000000\n",
              "spend    0.003597  0.00000  0.003597  ...  0.000000  0.000000  0.000000\n",
              "\n",
              "[8 rows x 8 columns]"
            ]
          },
          "metadata": {
            "tags": []
          },
          "execution_count": 6
        }
      ]
    },
    {
      "cell_type": "markdown",
      "metadata": {
        "id": "v237yzbZlDaR"
      },
      "source": [
        "## Calculate the probability of follows:"
      ]
    },
    {
      "cell_type": "markdown",
      "metadata": {
        "id": "TGsPCNxRlWuL"
      },
      "source": [
        "<p>s1 = \"i want english food </p>\n",
        "<p>s1 = \"want i english food </p>"
      ]
    },
    {
      "cell_type": "markdown",
      "metadata": {
        "id": "lN-dHJz6lhNP"
      },
      "source": [
        "```\n",
        "P(s1) = P(i|<start>) * P(want|i) * P(english|want) * P(food|english) * P(<end>|food)\n",
        "= 0.25 * 0.32649 * 0.0011 * 0.5 * 0.68 = 0.000030526815\n",
        "P(s2) = P(want|<start>) * P(i|want) * P(english|i) * P(food|english) * P(<end>|food)\n",
        "= 0.25 * 0.002157 * 0.0011 * 0.5 * 0.68 = 0.0000002016795\n",
        "\n",
        "```\n",
        "Hence, s1 is more likely to appear"
      ]
    },
    {
      "cell_type": "code",
      "metadata": {
        "id": "fIDQpPwNjxF0"
      },
      "source": [
        ""
      ],
      "execution_count": null,
      "outputs": []
    }
  ]
}