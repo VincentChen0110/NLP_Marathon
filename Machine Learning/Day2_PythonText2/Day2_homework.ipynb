{
  "nbformat": 4,
  "nbformat_minor": 0,
  "metadata": {
    "colab": {
      "name": "Day2_homework.ipynb",
      "provenance": []
    },
    "kernelspec": {
      "name": "python3",
      "display_name": "Python 3"
    },
    "language_info": {
      "name": "python"
    }
  },
  "cells": [
    {
      "cell_type": "code",
      "metadata": {
        "id": "bkxWDlY4-i7M"
      },
      "source": [
        "test_string = ['5.9','30', '½', '³', '⑬']"
      ],
      "execution_count": 1,
      "outputs": []
    },
    {
      "cell_type": "code",
      "metadata": {
        "id": "QQqTZmhH-zGk"
      },
      "source": [
        "def spam(s, isnumeric_count=0, isdigit_count=0, isdecimal_count=0):\n",
        "    for attr in ['isnumeric', 'isdecimal', 'isdigit']:\n",
        "      output.append(sum([getattr(ch,attr)() for ch in s]))\n",
        "    return output"
      ],
      "execution_count": 35,
      "outputs": []
    },
    {
      "cell_type": "code",
      "metadata": {
        "colab": {
          "base_uri": "https://localhost:8080/"
        },
        "id": "qfLTWEDTAwiF",
        "outputId": "2f696794-0099-4ac0-ef4d-59fe81ca7001"
      },
      "source": [
        "output = spam(test_string)\n",
        "isnumeric_count = output[0]\n",
        "isdecimal_count = output[2]\n",
        "isdigit_count = output[1]\n",
        "print('isnumeric_count: {}'.format(isnumeric_count))     \n",
        "print('isdigit_count: {}'.format(isdigit_count))     \n",
        "print('isdecimal_count: {}'.format(isdecimal_count))  "
      ],
      "execution_count": 36,
      "outputs": [
        {
          "output_type": "stream",
          "text": [
            "isnumeric_count: 4\n",
            "isdigit_count: 1\n",
            "isdecimal_count: 2\n"
          ],
          "name": "stdout"
        }
      ]
    },
    {
      "cell_type": "code",
      "metadata": {
        "id": "YAZ_xBqEBD6A"
      },
      "source": [
        "accuracy = 98.129393\n",
        "recall =   94.879583\n",
        "precision =96.294821"
      ],
      "execution_count": 37,
      "outputs": []
    },
    {
      "cell_type": "code",
      "metadata": {
        "colab": {
          "base_uri": "https://localhost:8080/"
        },
        "id": "Kv9ChOl-E29V",
        "outputId": "1c1ef99c-0d19-4386-eb8b-d4f034a5620a"
      },
      "source": [
        "print(\"Accuracy:{:.2f}%, Recall: {:.2f}%, Precision:{:.2f}%\".format(accuracy,recall,precision))"
      ],
      "execution_count": 39,
      "outputs": [
        {
          "output_type": "stream",
          "text": [
            "Accuracy:98.13%, Recall: 94.88%, Precision:96.29%\n"
          ],
          "name": "stdout"
        }
      ]
    },
    {
      "cell_type": "code",
      "metadata": {
        "id": "C7z5Rf7OFMLb"
      },
      "source": [
        "accuracy = 0.98129393\n",
        "recall =   0.94879583\n",
        "precision =0.96294821"
      ],
      "execution_count": 40,
      "outputs": []
    },
    {
      "cell_type": "code",
      "metadata": {
        "colab": {
          "base_uri": "https://localhost:8080/"
        },
        "id": "Z_hLl4BbFVOY",
        "outputId": "389a7aff-db44-4188-82ea-3bf4dafc882a"
      },
      "source": [
        "print(\"Accuracy:{:.2f}%, Recall: {:.2f}%, Precision:{:.2f}%\".format(100*accuracy,100*recall,100*precision))"
      ],
      "execution_count": 41,
      "outputs": [
        {
          "output_type": "stream",
          "text": [
            "Accuracy:98.13%, Recall: 94.88%, Precision:96.29%\n"
          ],
          "name": "stdout"
        }
      ]
    },
    {
      "cell_type": "code",
      "metadata": {
        "id": "SCcaLVrJFZYs"
      },
      "source": [
        "number = 3.1415926"
      ],
      "execution_count": 42,
      "outputs": []
    },
    {
      "cell_type": "code",
      "metadata": {
        "colab": {
          "base_uri": "https://localhost:8080/"
        },
        "id": "nJrWsx0MFc-3",
        "outputId": "4774320d-1336-459d-eb88-8e245c947814"
      },
      "source": [
        "print('%.2e'%(number))"
      ],
      "execution_count": 44,
      "outputs": [
        {
          "output_type": "stream",
          "text": [
            "3.14e+00\n"
          ],
          "name": "stdout"
        }
      ]
    },
    {
      "cell_type": "code",
      "metadata": {
        "colab": {
          "base_uri": "https://localhost:8080/"
        },
        "id": "Xzavx9LRFknl",
        "outputId": "75dd2b5c-0c36-4f0b-a0be-abdf84fadac5"
      },
      "source": [
        "print('{:.2f}%'.format(100*number))"
      ],
      "execution_count": 46,
      "outputs": [
        {
          "output_type": "stream",
          "text": [
            "314.16%\n"
          ],
          "name": "stdout"
        }
      ]
    },
    {
      "cell_type": "code",
      "metadata": {
        "colab": {
          "base_uri": "https://localhost:8080/"
        },
        "id": "Dh0I5QHVFoUl",
        "outputId": "741fd214-a9bc-4302-e2e4-5595153ac398"
      },
      "source": [
        "print('{:0<10.6f}'.format(number))"
      ],
      "execution_count": 47,
      "outputs": [
        {
          "output_type": "stream",
          "text": [
            "3.14159300\n"
          ],
          "name": "stdout"
        }
      ]
    },
    {
      "cell_type": "code",
      "metadata": {
        "id": "AuwO4LWuFqrQ"
      },
      "source": [
        ""
      ],
      "execution_count": null,
      "outputs": []
    }
  ]
}