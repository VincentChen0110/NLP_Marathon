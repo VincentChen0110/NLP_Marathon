{
  "nbformat": 4,
  "nbformat_minor": 0,
  "metadata": {
    "colab": {
      "name": "Day5_WordSegmentation.ipynb",
      "provenance": []
    },
    "kernelspec": {
      "name": "python3",
      "display_name": "Python 3"
    },
    "language_info": {
      "name": "python"
    }
  },
  "cells": [
    {
      "cell_type": "markdown",
      "metadata": {
        "id": "DhWhg590zEoP"
      },
      "source": [
        "## Understand the algorithms behind Word Segmentation"
      ]
    },
    {
      "cell_type": "markdown",
      "metadata": {
        "id": "EUngNekezb2u"
      },
      "source": [
        "### Calculate the weather probabilities"
      ]
    },
    {
      "cell_type": "code",
      "metadata": {
        "id": "7HxipVY7zQj0"
      },
      "source": [
        "import numpy as np"
      ],
      "execution_count": 1,
      "outputs": []
    },
    {
      "cell_type": "code",
      "metadata": {
        "id": "XlR0FKR7y59u"
      },
      "source": [
        "states = ('sunny', 'rainy')\n",
        "observations = ('dry', 'damp', 'soggy')\n",
        "start_probability = {'sunny': 0.4, 'rainy': 0.6}\n",
        "transition_probability = {'sunny':{'sunny':0.6, 'rainy':0.4},\n",
        "                          'rainy': {'sunny':0.3, 'rainy':0.7}}\n",
        "emission_probatility = {'sunny': {'dry':0.6, 'damp':0.3, 'soggy':0.1},\n",
        "                        'rainy': {'dry':0.1, 'damp':0.4, 'soggy':0.5}}\n"
      ],
      "execution_count": 2,
      "outputs": []
    },
    {
      "cell_type": "markdown",
      "metadata": {
        "id": "52fWNGrz1HJ1"
      },
      "source": [
        "**Observe States: 'dry','dry','dry'**\n",
        "```\n",
        "Sunny, Sunny, Sunny: 0.4*(0.6)*0.6*(0.6)*0.6*(0.6) = 0.031104\n",
        "Rainy, Sunny, Sunny: 0.6*(0.1)*0.3*(0.6)*0.6*(0.6) = 0.003888\n",
        "Sunny, Sunny, Rainy: 0.4*(0.6)*0.6*(0.6)*0.4*(0.1) = 0.003456\n",
        "Sunny, Rainy, Sunny: 0.4*(0.6)*0.4*(0.1)*0.3*(0.6) = 0.001728\n",
        "Sunny, Rainy, Rainy: 0.4*(0.6)*0.4*(0.1)*0.7*(0.1) = 0.000672\n",
        "Rainy, Rainy, Sunny: 0.6*(0.1)*0.7*(0.1)*0.3*(0.6) = 0.000756\n",
        "Rainy, Sunny, Rainy: 0.6*(0.1)*0.3*(0.6)*0.4*(0.1) = 0.000432\n",
        "Rainy, Rainy, Rainy: 0.6*(0.1)*0.7*(0.1)*0.7*(0.1) = 0.000294\n",
        "```\n",
        "\n",
        "**---> Largest Probability is Sunny, Sunny, Sunny**"
      ]
    },
    {
      "cell_type": "markdown",
      "metadata": {
        "id": "Sby-Ors42B6I"
      },
      "source": [
        "## Write the Viterbi Algorithm"
      ]
    },
    {
      "cell_type": "code",
      "metadata": {
        "id": "DEOx9UUuzgXI"
      },
      "source": [
        "observations = ('dry', 'dry', 'dry') \n",
        "states = ('sunny', 'rainy')\n",
        "start_probability = {'sunny': 0.4, 'rainy': 0.6}\n",
        "transition_probability = {'sunny':{'sunny':0.6, 'rainy':0.4},\n",
        "                          'rainy': {'sunny':0.3, 'rainy':0.7}}\n",
        "emission_probatility = {'sunny': {'dry':0.6, 'damp':0.3, 'soggy':0.1},\n",
        "                        'rainy': {'dry':0.1, 'damp':0.4, 'soggy':0.5}}"
      ],
      "execution_count": 2,
      "outputs": []
    },
    {
      "cell_type": "code",
      "metadata": {
        "id": "YpGwAjdg2Kfl"
      },
      "source": [
        "def viterbi(obs, states, start_p, trans_p, emit_p):\n",
        "  V = [{}]\n",
        "  path = {}\n",
        "\n",
        "  # Initialize base cases (t == 0)\n",
        "  for y in states:\n",
        "      V[0][y] = start_p[y]*emit_p[y][obs[0]]\n",
        "      path[y] = y\n",
        "  # For t > 0\n",
        "  for t in range(1,len(obs)):\n",
        "    V.append({})\n",
        "    newpath = {}\n",
        "\n",
        "    for cur_state in states:\n",
        "      prob, state = max(\n",
        "          [(V[t-1][pre_state]*trans_p[pre_state][cur_state]*emit_p[cur_state][obs[t]],pre_state)\n",
        "          for pre_state in states])\n",
        "      V[t][cur_state] = prob\n",
        "      newpath[cur_state] = path[state]+cur_state\n",
        "    #don't need to remember the old paths\n",
        "    path = newpath\n",
        "  \n",
        "  (prob, state) = max([(V[len(obs) - 1][final_state], final_state) for final_state in states])\n",
        "  return (prob,path[state])"
      ],
      "execution_count": 17,
      "outputs": []
    },
    {
      "cell_type": "code",
      "metadata": {
        "id": "43GFY4ij4PsR"
      },
      "source": [
        "result = viterbi(observations,\n",
        "                 states,\n",
        "                 start_probability,\n",
        "                 transition_probability,\n",
        "                 emission_probatility)"
      ],
      "execution_count": 18,
      "outputs": []
    },
    {
      "cell_type": "code",
      "metadata": {
        "colab": {
          "base_uri": "https://localhost:8080/"
        },
        "id": "fhFWhkn2I3MW",
        "outputId": "9813fa0b-9b59-48ed-8940-9b8163cc632c"
      },
      "source": [
        "result"
      ],
      "execution_count": 19,
      "outputs": [
        {
          "output_type": "execute_result",
          "data": {
            "text/plain": [
              "(0.031103999999999993, 'sunnysunnysunny')"
            ]
          },
          "metadata": {
            "tags": []
          },
          "execution_count": 19
        }
      ]
    },
    {
      "cell_type": "code",
      "metadata": {
        "id": "Uyqh5OzzJN9J"
      },
      "source": [
        ""
      ],
      "execution_count": null,
      "outputs": []
    }
  ]
}