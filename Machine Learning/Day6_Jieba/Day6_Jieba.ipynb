{
  "nbformat": 4,
  "nbformat_minor": 0,
  "metadata": {
    "colab": {
      "name": "Day6_Jieba.ipynb",
      "provenance": [],
      "collapsed_sections": []
    },
    "kernelspec": {
      "name": "python3",
      "display_name": "Python 3"
    },
    "language_info": {
      "name": "python"
    }
  },
  "cells": [
    {
      "cell_type": "code",
      "metadata": {
        "colab": {
          "base_uri": "https://localhost:8080/",
          "height": 255
        },
        "id": "SzzVgi5rMZNb",
        "outputId": "11fee892-7188-4554-d307-dc4b9cc864e7"
      },
      "source": [
        "import pandas as pd\n",
        "pd_corpus = pd.read_csv('ChnSentiCorp_htl_all.csv')\n",
        "pd_corpus.head()"
      ],
      "execution_count": 14,
      "outputs": [
        {
          "output_type": "execute_result",
          "data": {
            "text/html": [
              "<div>\n",
              "<style scoped>\n",
              "    .dataframe tbody tr th:only-of-type {\n",
              "        vertical-align: middle;\n",
              "    }\n",
              "\n",
              "    .dataframe tbody tr th {\n",
              "        vertical-align: top;\n",
              "    }\n",
              "\n",
              "    .dataframe thead th {\n",
              "        text-align: right;\n",
              "    }\n",
              "</style>\n",
              "<table border=\"1\" class=\"dataframe\">\n",
              "  <thead>\n",
              "    <tr style=\"text-align: right;\">\n",
              "      <th></th>\n",
              "      <th>label</th>\n",
              "      <th>review</th>\n",
              "    </tr>\n",
              "  </thead>\n",
              "  <tbody>\n",
              "    <tr>\n",
              "      <th>0</th>\n",
              "      <td>1</td>\n",
              "      <td>距离川沙公路较近,但是公交指示不对,如果是\"蔡陆线\"的话,会非常麻烦.建议用别的路线.房间较...</td>\n",
              "    </tr>\n",
              "    <tr>\n",
              "      <th>1</th>\n",
              "      <td>1</td>\n",
              "      <td>商务大床房，房间很大，床有2M宽，整体感觉经济实惠不错!</td>\n",
              "    </tr>\n",
              "    <tr>\n",
              "      <th>2</th>\n",
              "      <td>1</td>\n",
              "      <td>早餐太差，无论去多少人，那边也不加食品的。酒店应该重视一下这个问题了。房间本身很好。</td>\n",
              "    </tr>\n",
              "    <tr>\n",
              "      <th>3</th>\n",
              "      <td>1</td>\n",
              "      <td>宾馆在小街道上，不大好找，但还好北京热心同胞很多~宾馆设施跟介绍的差不多，房间很小，确实挺小...</td>\n",
              "    </tr>\n",
              "    <tr>\n",
              "      <th>4</th>\n",
              "      <td>1</td>\n",
              "      <td>CBD中心,周围没什么店铺,说5星有点勉强.不知道为什么卫生间没有电吹风</td>\n",
              "    </tr>\n",
              "  </tbody>\n",
              "</table>\n",
              "</div>"
            ],
            "text/plain": [
              "   label                                             review\n",
              "0      1  距离川沙公路较近,但是公交指示不对,如果是\"蔡陆线\"的话,会非常麻烦.建议用别的路线.房间较...\n",
              "1      1                       商务大床房，房间很大，床有2M宽，整体感觉经济实惠不错!\n",
              "2      1         早餐太差，无论去多少人，那边也不加食品的。酒店应该重视一下这个问题了。房间本身很好。\n",
              "3      1  宾馆在小街道上，不大好找，但还好北京热心同胞很多~宾馆设施跟介绍的差不多，房间很小，确实挺小...\n",
              "4      1               CBD中心,周围没什么店铺,说5星有点勉强.不知道为什么卫生间没有电吹风"
            ]
          },
          "metadata": {
            "tags": []
          },
          "execution_count": 14
        }
      ]
    },
    {
      "cell_type": "code",
      "metadata": {
        "colab": {
          "base_uri": "https://localhost:8080/"
        },
        "id": "lnDqoGqsMrJG",
        "outputId": "f260792f-4d68-4351-9395-8d3cec1b4ab1"
      },
      "source": [
        "pd_positive = pd_corpus[pd_corpus['label']==1]\n",
        "pd_negative = pd_corpus[pd_corpus['label']==0]\n",
        "print(f'Total:{len(pd_corpus)}, Postive: {len(pd_positive)}, Negative: {len(pd_negative)}')"
      ],
      "execution_count": 5,
      "outputs": [
        {
          "output_type": "stream",
          "text": [
            "Total:7766, Postive: 5322, Negative: 2444\n"
          ],
          "name": "stdout"
        }
      ]
    },
    {
      "cell_type": "code",
      "metadata": {
        "id": "hyLkugZENUlT"
      },
      "source": [
        "pd_corpus.dropna(inplace = True)"
      ],
      "execution_count": 15,
      "outputs": []
    },
    {
      "cell_type": "markdown",
      "metadata": {
        "id": "h1qX-2NuN45X"
      },
      "source": [
        "## Create Jieba Cutting Class"
      ]
    },
    {
      "cell_type": "code",
      "metadata": {
        "id": "rX-Fq3UGNy-B"
      },
      "source": [
        "import jieba"
      ],
      "execution_count": 7,
      "outputs": []
    },
    {
      "cell_type": "code",
      "metadata": {
        "id": "WdhQOxoqN9XZ"
      },
      "source": [
        "class JiebaCuttingClass(object):\n",
        "  def __init__(self,key_to_cut:str, dic:str=None, userdict:str=None):\n",
        "    if dic is not None:\n",
        "      jieba.set_dictionary(dic)\n",
        "    if userdict is not None:\n",
        "      jieba.load_userdict(userdict)\n",
        "    self.key_to_cut = key_to_cut\n",
        "    jieba.enable_paddle()\n",
        "  \n",
        "  @staticmethod\n",
        "  def cut_single_sentence(sentence, use_paddle = False, use_full = False, use_search = False):\n",
        "    if use_search:\n",
        "      out = jieba.cut_for_search(sentence)\n",
        "    else:\n",
        "      out = jieba.cut(sentence,use_paddle=use_paddle, cut_all = use_full)\n",
        "    return list(out)\n",
        "    \n",
        "  def cut_corpus(self, corpus: pd.DataFrame, mode: str) -> pd.DataFrame:\n",
        "    if mode not in ['paddle','full','precise','search']:\n",
        "      raise TypeError(f'only support `paddle`,`full`,`precise`, and `search` mode, but get {mode}')\n",
        "\n",
        "    if mode == 'paddle':\n",
        "      out = self._paddle_cut(corpus)\n",
        "    elif mode == 'full':\n",
        "      out = self._full_cut(corpus)   \n",
        "    elif mode == 'precise':\n",
        "      out = self._precise_cut(corpus)\n",
        "    elif mode == 'search':\n",
        "      out = self._search_cut(corpus)\n",
        "    return out\n",
        "\n",
        "  def _paddle_cut(self, corpus):\n",
        "    jieba.enable_paddle()\n",
        "    \n",
        "    out = []\n",
        "    for single_review in corpus[self.key_to_cut]:\n",
        "      out.append([word for word in JiebaCuttingClass.cut_single_sentence(single_review,use_paddle=True)])\n",
        "    \n",
        "    corpus['cut'] = out \n",
        "    return corpus\n",
        "\n",
        "  def _full_cut(self, corpus):\n",
        "    \n",
        "    out = []\n",
        "    for single_review in corpus[self.key_to_cut]:\n",
        "      out.append([word for word in JiebaCuttingClass.cut_single_sentence(single_review,use_full=True)])\n",
        "    \n",
        "    corpus['cut'] = out \n",
        "    return corpus\n",
        "\n",
        "  def _precise_cut(self, corpus):\n",
        "    \n",
        "    out = []\n",
        "    for single_review in corpus[self.key_to_cut]:\n",
        "      out.append([word for word in JiebaCuttingClass.cut_single_sentence(single_review)])\n",
        "    \n",
        "    corpus['cut'] = out \n",
        "    return corpus\n",
        "\n",
        "  def _search_cut(self, corpus):\n",
        "    \n",
        "    out = []\n",
        "    for single_review in corpus[self.key_to_cut]:\n",
        "      out.append([word for word in JiebaCuttingClass.cut_single_sentence(single_review,use_search=True)])\n",
        "    \n",
        "    corpus['cut'] = out \n",
        "    return corpus\n",
        "  "
      ],
      "execution_count": 28,
      "outputs": []
    },
    {
      "cell_type": "code",
      "metadata": {
        "colab": {
          "base_uri": "https://localhost:8080/",
          "height": 462
        },
        "id": "XNIrBj_OX614",
        "outputId": "53e9bb2a-60a5-480a-e4c3-ad1959b4483a"
      },
      "source": [
        "jieba_cut = JiebaCuttingClass(key_to_cut = 'review')\n",
        "pd_cut = jieba_cut.cut_corpus(pd_corpus.loc[:50,:],mode = 'precise')\n",
        "pd_cut.head()"
      ],
      "execution_count": 29,
      "outputs": [
        {
          "output_type": "stream",
          "text": [
            "Paddle enabled successfully......\n",
            "/usr/local/lib/python3.7/dist-packages/ipykernel_launcher.py:57: SettingWithCopyWarning: \n",
            "A value is trying to be set on a copy of a slice from a DataFrame.\n",
            "Try using .loc[row_indexer,col_indexer] = value instead\n",
            "\n",
            "See the caveats in the documentation: https://pandas.pydata.org/pandas-docs/stable/user_guide/indexing.html#returning-a-view-versus-a-copy\n"
          ],
          "name": "stderr"
        },
        {
          "output_type": "execute_result",
          "data": {
            "text/html": [
              "<div>\n",
              "<style scoped>\n",
              "    .dataframe tbody tr th:only-of-type {\n",
              "        vertical-align: middle;\n",
              "    }\n",
              "\n",
              "    .dataframe tbody tr th {\n",
              "        vertical-align: top;\n",
              "    }\n",
              "\n",
              "    .dataframe thead th {\n",
              "        text-align: right;\n",
              "    }\n",
              "</style>\n",
              "<table border=\"1\" class=\"dataframe\">\n",
              "  <thead>\n",
              "    <tr style=\"text-align: right;\">\n",
              "      <th></th>\n",
              "      <th>label</th>\n",
              "      <th>review</th>\n",
              "      <th>cut</th>\n",
              "    </tr>\n",
              "  </thead>\n",
              "  <tbody>\n",
              "    <tr>\n",
              "      <th>0</th>\n",
              "      <td>1</td>\n",
              "      <td>距离川沙公路较近,但是公交指示不对,如果是\"蔡陆线\"的话,会非常麻烦.建议用别的路线.房间较...</td>\n",
              "      <td>[距离, 川沙, 公路, 较近, ,, 但是, 公交, 指示, 不, 对, ,, 如果, 是...</td>\n",
              "    </tr>\n",
              "    <tr>\n",
              "      <th>1</th>\n",
              "      <td>1</td>\n",
              "      <td>商务大床房，房间很大，床有2M宽，整体感觉经济实惠不错!</td>\n",
              "      <td>[商务, 大床, 房, ，, 房间, 很大, ，, 床有, 2M, 宽, ，, 整体, 感觉...</td>\n",
              "    </tr>\n",
              "    <tr>\n",
              "      <th>2</th>\n",
              "      <td>1</td>\n",
              "      <td>早餐太差，无论去多少人，那边也不加食品的。酒店应该重视一下这个问题了。房间本身很好。</td>\n",
              "      <td>[早餐, 太差, ，, 无论, 去, 多少, 人, ，, 那边, 也, 不加, 食品, 的,...</td>\n",
              "    </tr>\n",
              "    <tr>\n",
              "      <th>3</th>\n",
              "      <td>1</td>\n",
              "      <td>宾馆在小街道上，不大好找，但还好北京热心同胞很多~宾馆设施跟介绍的差不多，房间很小，确实挺小...</td>\n",
              "      <td>[宾馆, 在, 小, 街道, 上, ，, 不大好, 找, ，, 但, 还好, 北京, 热心,...</td>\n",
              "    </tr>\n",
              "    <tr>\n",
              "      <th>4</th>\n",
              "      <td>1</td>\n",
              "      <td>CBD中心,周围没什么店铺,说5星有点勉强.不知道为什么卫生间没有电吹风</td>\n",
              "      <td>[CBD, 中心, ,, 周围, 没什么, 店铺, ,, 说, 5, 星, 有点, 勉强, ...</td>\n",
              "    </tr>\n",
              "  </tbody>\n",
              "</table>\n",
              "</div>"
            ],
            "text/plain": [
              "   label  ...                                                cut\n",
              "0      1  ...  [距离, 川沙, 公路, 较近, ,, 但是, 公交, 指示, 不, 对, ,, 如果, 是...\n",
              "1      1  ...  [商务, 大床, 房, ，, 房间, 很大, ，, 床有, 2M, 宽, ，, 整体, 感觉...\n",
              "2      1  ...  [早餐, 太差, ，, 无论, 去, 多少, 人, ，, 那边, 也, 不加, 食品, 的,...\n",
              "3      1  ...  [宾馆, 在, 小, 街道, 上, ，, 不大好, 找, ，, 但, 还好, 北京, 热心,...\n",
              "4      1  ...  [CBD, 中心, ,, 周围, 没什么, 店铺, ,, 说, 5, 星, 有点, 勉强, ...\n",
              "\n",
              "[5 rows x 3 columns]"
            ]
          },
          "metadata": {
            "tags": []
          },
          "execution_count": 29
        }
      ]
    },
    {
      "cell_type": "markdown",
      "metadata": {
        "id": "L1cpvFwaaoqi"
      },
      "source": [
        "## Use Dict"
      ]
    },
    {
      "cell_type": "code",
      "metadata": {
        "colab": {
          "base_uri": "https://localhost:8080/"
        },
        "id": "gNzWxozYaEYx",
        "outputId": "73a93243-63cc-4663-afd1-3bf33fbe6e9d"
      },
      "source": [
        "test_string = '我愛cupoy自然語言處理馬拉松課程'\n",
        "jieba_cut = JiebaCuttingClass(key_to_cut='', dic='dict.txt.big')\n",
        "\n",
        "\n",
        "out_string = jieba_cut.cut_single_sentence(test_string,use_paddle=True)\n",
        "print(f'Paddle模式: {[string for string in out_string]}')\n",
        "\n",
        "out_string = jieba_cut.cut_single_sentence(test_string,use_full=True)\n",
        "print(f'全模式: {[string for string in out_string]}')\n",
        "\n",
        "out_string = jieba_cut.cut_single_sentence(test_string,use_search=True)\n",
        "print(f'搜尋模式: {[string for string in out_string]}')\n",
        "\n",
        "out_string = jieba_cut.cut_single_sentence(test_string)\n",
        "print(f'精確模式: {[string for string in out_string]}')\n"
      ],
      "execution_count": 30,
      "outputs": [
        {
          "output_type": "stream",
          "text": [
            "Paddle enabled successfully......\n",
            "Building prefix dict from /content/dict.txt.big ...\n",
            "Loading model from cache /tmp/jieba.u501edca284da514cb68b53a20324f4e3.cache\n"
          ],
          "name": "stderr"
        },
        {
          "output_type": "stream",
          "text": [
            "Paddle模式: ['我', '愛', 'cupoy', '自然', '語言', '處理', '馬拉松', '課程']\n"
          ],
          "name": "stdout"
        },
        {
          "output_type": "stream",
          "text": [
            "Loading model cost 1.519 seconds.\n",
            "Prefix dict has been built successfully.\n"
          ],
          "name": "stderr"
        },
        {
          "output_type": "stream",
          "text": [
            "全模式: ['我', '愛', 'cupoy', '自然', '自然語言', '語言', '處理', '馬拉', '馬拉松', '課程']\n",
            "搜尋模式: ['我', '愛', 'cupoy', '自然', '語言', '自然語言', '處理', '馬拉', '馬拉松', '課程']\n",
            "精確模式: ['我', '愛', 'cupoy', '自然語言', '處理', '馬拉松', '課程']\n"
          ],
          "name": "stdout"
        }
      ]
    },
    {
      "cell_type": "code",
      "metadata": {
        "id": "KGnHDd4NbRtW"
      },
      "source": [
        ""
      ],
      "execution_count": null,
      "outputs": []
    }
  ]
}