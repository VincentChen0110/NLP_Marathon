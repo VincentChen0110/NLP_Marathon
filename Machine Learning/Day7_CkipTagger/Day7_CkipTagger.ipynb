{
  "nbformat": 4,
  "nbformat_minor": 0,
  "metadata": {
    "colab": {
      "name": "Day7_CkipTagger.ipynb",
      "provenance": []
    },
    "kernelspec": {
      "name": "python3",
      "display_name": "Python 3"
    },
    "language_info": {
      "name": "python"
    }
  },
  "cells": [
    {
      "cell_type": "code",
      "metadata": {
        "colab": {
          "base_uri": "https://localhost:8080/"
        },
        "id": "0ryVTfxtj46Q",
        "outputId": "0d47893d-efef-4afc-cd19-c02c80b77388"
      },
      "source": [
        "!unzip /content/drive/MyDrive/data.zip"
      ],
      "execution_count": 5,
      "outputs": [
        {
          "output_type": "stream",
          "text": [
            "Archive:  /content/drive/MyDrive/data.zip\n",
            "   creating: data/\n",
            "   creating: data/embedding_character/\n",
            "  inflating: data/embedding_character/token_list.npy  \n",
            "  inflating: data/embedding_character/vector_list.npy  \n",
            "   creating: data/embedding_word/\n",
            "  inflating: data/embedding_word/token_list.npy  \n",
            "  inflating: data/embedding_word/vector_list.npy  \n",
            "  inflating: data/LICENSE            \n",
            "   creating: data/model_ner/\n",
            "  inflating: data/model_ner/label_list.txt  \n",
            "  inflating: data/model_ner/model_ontochinese_Att-0_BiLSTM-2-500_batch128-run1.data-00000-of-00001  \n",
            "  inflating: data/model_ner/model_ontochinese_Att-0_BiLSTM-2-500_batch128-run1.index  \n",
            "  inflating: data/model_ner/model_ontochinese_Att-0_BiLSTM-2-500_batch128-run1.meta  \n",
            "  inflating: data/model_ner/pos_list.txt  \n",
            "   creating: data/model_pos/\n",
            "  inflating: data/model_pos/label_list.txt  \n",
            "  inflating: data/model_pos/model_asbc_Att-0_BiLSTM-2-500_batch256-run1.data-00000-of-00001  \n",
            "  inflating: data/model_pos/model_asbc_Att-0_BiLSTM-2-500_batch256-run1.index  \n",
            "  inflating: data/model_pos/model_asbc_Att-0_BiLSTM-2-500_batch256-run1.meta  \n",
            "   creating: data/model_ws/\n",
            "  inflating: data/model_ws/model_asbc_Att-0_BiLSTM-cross-2-500_batch128-run1.data-00000-of-00001  \n",
            "  inflating: data/model_ws/model_asbc_Att-0_BiLSTM-cross-2-500_batch128-run1.index  \n",
            "  inflating: data/model_ws/model_asbc_Att-0_BiLSTM-cross-2-500_batch128-run1.meta  \n"
          ],
          "name": "stdout"
        }
      ]
    },
    {
      "cell_type": "code",
      "metadata": {
        "colab": {
          "base_uri": "https://localhost:8080/"
        },
        "id": "fqdXKneklNx2",
        "outputId": "c9a3c2f0-a678-45b5-8d53-1e7344850f7f"
      },
      "source": [
        "!pip install -U ckiptagger"
      ],
      "execution_count": 6,
      "outputs": [
        {
          "output_type": "stream",
          "text": [
            "Collecting ckiptagger\n",
            "  Downloading https://files.pythonhosted.org/packages/6b/bc/5cbf8d019167d5e5e1775069fb8b71a08691ab847e2926bbe7dee9a19010/ckiptagger-0.2.1-py3-none-any.whl\n",
            "Installing collected packages: ckiptagger\n",
            "Successfully installed ckiptagger-0.2.1\n"
          ],
          "name": "stdout"
        }
      ]
    },
    {
      "cell_type": "code",
      "metadata": {
        "colab": {
          "base_uri": "https://localhost:8080/"
        },
        "id": "1Sda1XBXjeXC",
        "outputId": "fa46f230-62a8-4964-83c0-551ab34495e9"
      },
      "source": [
        "from ckiptagger import data_utils, construct_dictionary, WS, POS, NER\n",
        "data_utils.download_data_gdown(\"./\")\n",
        "sentence_list = [\n",
        "    \"傅達仁今將執行安樂死，卻突然爆出自己20年前遭緯來體育台封殺，他不懂自己哪裡得罪到電視台。\",\n",
        "    \"美國參議院針對今天總統布什所提名的勞工部長趙小蘭展開認可聽證會，預料她將會很順利通過參議院支持，成為該國有史以來第一位的華裔女性內閣成員。\",\n",
        "    \"\",\n",
        "    \"土地公有政策?？還是土地婆有政策。.\",\n",
        "    \"… 你確定嗎… 不要再騙了……\",\n",
        "    \"最多容納59,000個人,或5.9萬人,再多就不行了.這是環評的結論.\",\n",
        "    \"科長說:1,坪數對人數為1:3。2,可以再增加。\",\n",
        "]"
      ],
      "execution_count": 7,
      "outputs": [
        {
          "output_type": "stream",
          "text": [
            "Downloading...\n",
            "From: https://drive.google.com/uc?id=1efHsY16pxK0lBD2gYCgCTnv1Swstq771\n",
            "To: /content/data.zip\n",
            "1.88GB [00:09, 192MB/s]\n"
          ],
          "name": "stderr"
        }
      ]
    },
    {
      "cell_type": "code",
      "metadata": {
        "colab": {
          "base_uri": "https://localhost:8080/"
        },
        "id": "c2O_71hDjiAe",
        "outputId": "2b5899b9-7a2f-466f-cf32-6dcce8fc924b"
      },
      "source": [
        "ws = WS(\"./data\")\n",
        "pos = POS(\"./data\")\n",
        "ner = NER(\"./data\")\n",
        "\n",
        "word_s = ws(sentence_list, sentence_segmentation = True,\n",
        "            segment_delimiter_set = {'?', '？', '!', '！', '。', ',','，', ';', ':', '、'}\n",
        "            )\n",
        "\n",
        "print(f'Word Segmentation: {word_s}\\n')\n",
        "word_p = pos(word_s)\n",
        "print(f'Part of speech tagging: {word_p}\\n')\n",
        "\n",
        "word_n = ner(word_s, word_p)\n",
        "print(f'Named Entity Recognition: {word_n}\\n')"
      ],
      "execution_count": 9,
      "outputs": [
        {
          "output_type": "stream",
          "text": [
            "/usr/local/lib/python3.7/dist-packages/tensorflow/python/keras/layers/legacy_rnn/rnn_cell_impl.py:903: UserWarning: `tf.nn.rnn_cell.LSTMCell` is deprecated and will be removed in a future version. This class is equivalent as `tf.keras.layers.LSTMCell`, and will be replaced by that in Tensorflow 2.0.\n",
            "  warnings.warn(\"`tf.nn.rnn_cell.LSTMCell` is deprecated and will be \"\n",
            "/usr/local/lib/python3.7/dist-packages/tensorflow/python/keras/engine/base_layer_v1.py:1727: UserWarning: `layer.add_variable` is deprecated and will be removed in a future version. Please use `layer.add_weight` method instead.\n",
            "  warnings.warn('`layer.add_variable` is deprecated and '\n"
          ],
          "name": "stderr"
        },
        {
          "output_type": "stream",
          "text": [
            "Word Segmentation: [['傅達仁', '今', '將', '執行', '安樂死', '，', '卻', '突然', '爆出', '自己', '20', '年', '前', '遭', '緯來', '體育台', '封殺', '，', '他', '不', '懂', '自己', '哪裡', '得罪到', '電視台', '。'], ['美國', '參議院', '針對', '今天', '總統', '布什', '所', '提名', '的', '勞工部長', '趙小蘭', '展開', '認可', '聽證會', '，', '預料', '她', '將', '會', '很', '順利', '通過', '參議院', '支持', '，', '成為', '該', '國', '有史以來', '第一', '位', '的', '華裔', '女性', '內閣', '成員', '。'], [], ['土地公', '有', '政策', '?', '？', '還是', '土地', '婆', '有', '政策', '。', '.'], ['…', ' ', '你', '確定', '嗎', '…', ' ', '不要', '再', '騙', '了', '…', '…'], ['最多', '容納', '59', ',', '000', '個', '人', ',', '或', '5.9萬', '人', ',', '再', '多', '就', '不行', '了', '.', '這', '是', '環評', '的', '結論', '.'], ['科長', '說', ':', '1', ',', '坪數', '對', '人數', '為', '1', ':', '3', '。', '2', ',', '可以', '再', '增加', '。']]\n",
            "\n",
            "Part of speech tagging: [['Nb', 'Nd', 'D', 'VC', 'Na', 'COMMACATEGORY', 'D', 'D', 'VJ', 'Nh', 'Neu', 'Nf', 'Ng', 'P', 'Nb', 'Na', 'VC', 'COMMACATEGORY', 'Nh', 'D', 'VK', 'Nh', 'Ncd', 'VJ', 'Nc', 'PERIODCATEGORY'], ['Nc', 'Nc', 'P', 'Nd', 'Na', 'Nb', 'D', 'VC', 'DE', 'Na', 'Nb', 'VC', 'VC', 'Na', 'COMMACATEGORY', 'VE', 'Nh', 'D', 'D', 'Dfa', 'VH', 'VC', 'Nc', 'VC', 'COMMACATEGORY', 'VG', 'Nes', 'Nc', 'D', 'Neu', 'Nf', 'DE', 'Na', 'Na', 'Na', 'Na', 'PERIODCATEGORY'], [], ['Nb', 'V_2', 'Na', 'QUESTIONCATEGORY', 'QUESTIONCATEGORY', 'Caa', 'Na', 'Na', 'V_2', 'Na', 'PERIODCATEGORY', 'PERIODCATEGORY'], ['ETCCATEGORY', 'WHITESPACE', 'Nh', 'VK', 'T', 'ETCCATEGORY', 'WHITESPACE', 'D', 'D', 'VC', 'Di', 'ETCCATEGORY', 'ETCCATEGORY'], ['VH', 'VJ', 'Neu', 'COMMACATEGORY', 'Neu', 'Nf', 'Na', 'COMMACATEGORY', 'Caa', 'Neu', 'Na', 'COMMACATEGORY', 'D', 'D', 'D', 'VH', 'T', 'PERIODCATEGORY', 'Nep', 'SHI', 'Na', 'DE', 'Na', 'PERIODCATEGORY'], ['Na', 'VE', 'COLONCATEGORY', 'Neu', 'COMMACATEGORY', 'Na', 'P', 'Na', 'VG', 'Neu', 'COLONCATEGORY', 'Neu', 'PERIODCATEGORY', 'Neu', 'COMMACATEGORY', 'D', 'D', 'VHC', 'PERIODCATEGORY']]\n",
            "\n",
            "Named Entity Recognition: [{(0, 3, 'PERSON', '傅達仁'), (18, 22, 'DATE', '20年前'), (23, 28, 'ORG', '緯來體育台')}, {(17, 21, 'ORG', '勞工部長'), (42, 45, 'ORG', '參議院'), (11, 13, 'PERSON', '布什'), (56, 58, 'ORDINAL', '第一'), (60, 62, 'NORP', '華裔'), (2, 5, 'ORG', '參議院'), (0, 2, 'GPE', '美國'), (21, 24, 'PERSON', '趙小蘭'), (7, 9, 'DATE', '今天')}, set(), {(0, 3, 'PERSON', '土地公')}, set(), {(14, 18, 'CARDINAL', '5.9萬'), (4, 6, 'CARDINAL', '59'), (7, 10, 'CARDINAL', '000')}, {(16, 17, 'CARDINAL', '2'), (14, 15, 'CARDINAL', '3'), (12, 13, 'CARDINAL', '1'), (4, 5, 'CARDINAL', '1')}]\n",
            "\n"
          ],
          "name": "stdout"
        }
      ]
    },
    {
      "cell_type": "code",
      "metadata": {
        "colab": {
          "base_uri": "https://localhost:8080/"
        },
        "id": "HXZwWrhanQA4",
        "outputId": "8f2f5618-80f0-49c1-bcb8-1a43e029b26d"
      },
      "source": [
        "def combine_wandp(word_s, word_p):\n",
        "  assert len(word_s) == len(word_p)\n",
        "  print(''.join([f'{w_s}({w_p}) ' for w_s, w_p in zip(word_s, word_p)]))\n",
        "for i, sentence in enumerate(sentence_list):\n",
        "  print(f'Input sentence: \\n {sentence}')\n",
        "  print('\\n')\n",
        "    \n",
        "  print(f'Segmentation with PoS: \\n')\n",
        "  ###<your code>###\n",
        "  combine_wandp(word_s[i], word_p[i])\n",
        "  print ('\\n')\n",
        "  print('Named Entity Recognition:')\n",
        "  for n in sorted(word_n[i]):\n",
        "      print (n)\n",
        "  print ('\\n')\n"
      ],
      "execution_count": 12,
      "outputs": [
        {
          "output_type": "stream",
          "text": [
            "Input sentence: \n",
            " 傅達仁今將執行安樂死，卻突然爆出自己20年前遭緯來體育台封殺，他不懂自己哪裡得罪到電視台。\n",
            "\n",
            "\n",
            "Segmentation with PoS: \n",
            "\n",
            "傅達仁(Nb) 今(Nd) 將(D) 執行(VC) 安樂死(Na) ，(COMMACATEGORY) 卻(D) 突然(D) 爆出(VJ) 自己(Nh) 20(Neu) 年(Nf) 前(Ng) 遭(P) 緯來(Nb) 體育台(Na) 封殺(VC) ，(COMMACATEGORY) 他(Nh) 不(D) 懂(VK) 自己(Nh) 哪裡(Ncd) 得罪到(VJ) 電視台(Nc) 。(PERIODCATEGORY) \n",
            "\n",
            "\n",
            "Named Entity Recognition:\n",
            "(0, 3, 'PERSON', '傅達仁')\n",
            "(18, 22, 'DATE', '20年前')\n",
            "(23, 28, 'ORG', '緯來體育台')\n",
            "\n",
            "\n",
            "Input sentence: \n",
            " 美國參議院針對今天總統布什所提名的勞工部長趙小蘭展開認可聽證會，預料她將會很順利通過參議院支持，成為該國有史以來第一位的華裔女性內閣成員。\n",
            "\n",
            "\n",
            "Segmentation with PoS: \n",
            "\n",
            "美國(Nc) 參議院(Nc) 針對(P) 今天(Nd) 總統(Na) 布什(Nb) 所(D) 提名(VC) 的(DE) 勞工部長(Na) 趙小蘭(Nb) 展開(VC) 認可(VC) 聽證會(Na) ，(COMMACATEGORY) 預料(VE) 她(Nh) 將(D) 會(D) 很(Dfa) 順利(VH) 通過(VC) 參議院(Nc) 支持(VC) ，(COMMACATEGORY) 成為(VG) 該(Nes) 國(Nc) 有史以來(D) 第一(Neu) 位(Nf) 的(DE) 華裔(Na) 女性(Na) 內閣(Na) 成員(Na) 。(PERIODCATEGORY) \n",
            "\n",
            "\n",
            "Named Entity Recognition:\n",
            "(0, 2, 'GPE', '美國')\n",
            "(2, 5, 'ORG', '參議院')\n",
            "(7, 9, 'DATE', '今天')\n",
            "(11, 13, 'PERSON', '布什')\n",
            "(17, 21, 'ORG', '勞工部長')\n",
            "(21, 24, 'PERSON', '趙小蘭')\n",
            "(42, 45, 'ORG', '參議院')\n",
            "(56, 58, 'ORDINAL', '第一')\n",
            "(60, 62, 'NORP', '華裔')\n",
            "\n",
            "\n",
            "Input sentence: \n",
            " \n",
            "\n",
            "\n",
            "Segmentation with PoS: \n",
            "\n",
            "\n",
            "\n",
            "\n",
            "Named Entity Recognition:\n",
            "\n",
            "\n",
            "Input sentence: \n",
            " 土地公有政策?？還是土地婆有政策。.\n",
            "\n",
            "\n",
            "Segmentation with PoS: \n",
            "\n",
            "土地公(Nb) 有(V_2) 政策(Na) ?(QUESTIONCATEGORY) ？(QUESTIONCATEGORY) 還是(Caa) 土地(Na) 婆(Na) 有(V_2) 政策(Na) 。(PERIODCATEGORY) .(PERIODCATEGORY) \n",
            "\n",
            "\n",
            "Named Entity Recognition:\n",
            "(0, 3, 'PERSON', '土地公')\n",
            "\n",
            "\n",
            "Input sentence: \n",
            " … 你確定嗎… 不要再騙了……\n",
            "\n",
            "\n",
            "Segmentation with PoS: \n",
            "\n",
            "…(ETCCATEGORY)  (WHITESPACE) 你(Nh) 確定(VK) 嗎(T) …(ETCCATEGORY)  (WHITESPACE) 不要(D) 再(D) 騙(VC) 了(Di) …(ETCCATEGORY) …(ETCCATEGORY) \n",
            "\n",
            "\n",
            "Named Entity Recognition:\n",
            "\n",
            "\n",
            "Input sentence: \n",
            " 最多容納59,000個人,或5.9萬人,再多就不行了.這是環評的結論.\n",
            "\n",
            "\n",
            "Segmentation with PoS: \n",
            "\n",
            "最多(VH) 容納(VJ) 59(Neu) ,(COMMACATEGORY) 000(Neu) 個(Nf) 人(Na) ,(COMMACATEGORY) 或(Caa) 5.9萬(Neu) 人(Na) ,(COMMACATEGORY) 再(D) 多(D) 就(D) 不行(VH) 了(T) .(PERIODCATEGORY) 這(Nep) 是(SHI) 環評(Na) 的(DE) 結論(Na) .(PERIODCATEGORY) \n",
            "\n",
            "\n",
            "Named Entity Recognition:\n",
            "(4, 6, 'CARDINAL', '59')\n",
            "(7, 10, 'CARDINAL', '000')\n",
            "(14, 18, 'CARDINAL', '5.9萬')\n",
            "\n",
            "\n",
            "Input sentence: \n",
            " 科長說:1,坪數對人數為1:3。2,可以再增加。\n",
            "\n",
            "\n",
            "Segmentation with PoS: \n",
            "\n",
            "科長(Na) 說(VE) :(COLONCATEGORY) 1(Neu) ,(COMMACATEGORY) 坪數(Na) 對(P) 人數(Na) 為(VG) 1(Neu) :(COLONCATEGORY) 3(Neu) 。(PERIODCATEGORY) 2(Neu) ,(COMMACATEGORY) 可以(D) 再(D) 增加(VHC) 。(PERIODCATEGORY) \n",
            "\n",
            "\n",
            "Named Entity Recognition:\n",
            "(4, 5, 'CARDINAL', '1')\n",
            "(12, 13, 'CARDINAL', '1')\n",
            "(14, 15, 'CARDINAL', '3')\n",
            "(16, 17, 'CARDINAL', '2')\n",
            "\n",
            "\n"
          ],
          "name": "stdout"
        }
      ]
    },
    {
      "cell_type": "markdown",
      "metadata": {
        "id": "EzbTTa4vrf95"
      },
      "source": [
        "## Using self-defined dictionaries"
      ]
    },
    {
      "cell_type": "code",
      "metadata": {
        "colab": {
          "base_uri": "https://localhost:8080/"
        },
        "id": "G1h6SSd6rDJa",
        "outputId": "7b9f8f25-f5df-405f-fdc9-9c7cc4920053"
      },
      "source": [
        "from ckiptagger import construct_dictionary\n",
        "word_to_weight = {\"年前\":1}\n",
        "dictionary = construct_dictionary(word_to_weight)\n",
        "ws = WS(\"./data\")\n",
        "input_traditional_str = [\"傅達仁今將執行安樂死，卻突然爆出自己20年前遭緯來體育台封殺，他不懂自己哪裡得罪到電視台。\"]\n",
        "word_sentence_list = ws(input_traditional_str, recommend_dictionary=dictionary\n",
        "            )\n",
        "print(word_sentence_list)"
      ],
      "execution_count": 15,
      "outputs": [
        {
          "output_type": "stream",
          "text": [
            "/usr/local/lib/python3.7/dist-packages/tensorflow/python/keras/layers/legacy_rnn/rnn_cell_impl.py:903: UserWarning: `tf.nn.rnn_cell.LSTMCell` is deprecated and will be removed in a future version. This class is equivalent as `tf.keras.layers.LSTMCell`, and will be replaced by that in Tensorflow 2.0.\n",
            "  warnings.warn(\"`tf.nn.rnn_cell.LSTMCell` is deprecated and will be \"\n",
            "/usr/local/lib/python3.7/dist-packages/tensorflow/python/keras/engine/base_layer_v1.py:1727: UserWarning: `layer.add_variable` is deprecated and will be removed in a future version. Please use `layer.add_weight` method instead.\n",
            "  warnings.warn('`layer.add_variable` is deprecated and '\n"
          ],
          "name": "stderr"
        },
        {
          "output_type": "stream",
          "text": [
            "[['傅達仁', '今', '將', '執行', '安樂死', '，', '卻', '突然', '爆出', '自己', '20', '年前', '遭', '緯來', '體育台', '封殺', '，', '他', '不', '懂', '自己', '哪裡', '得罪到', '電視台', '。']]\n"
          ],
          "name": "stdout"
        }
      ]
    },
    {
      "cell_type": "code",
      "metadata": {
        "id": "eWUf0cLkrnbG"
      },
      "source": [
        ""
      ],
      "execution_count": null,
      "outputs": []
    }
  ]
}