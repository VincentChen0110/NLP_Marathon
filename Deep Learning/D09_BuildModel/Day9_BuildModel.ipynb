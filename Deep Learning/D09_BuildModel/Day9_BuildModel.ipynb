{
  "nbformat": 4,
  "nbformat_minor": 0,
  "metadata": {
    "colab": {
      "name": "Day9_BuildModel.ipynb",
      "provenance": [],
      "collapsed_sections": []
    },
    "kernelspec": {
      "name": "python3",
      "display_name": "Python 3"
    },
    "language_info": {
      "name": "python"
    },
    "accelerator": "GPU"
  },
  "cells": [
    {
      "cell_type": "code",
      "metadata": {
        "id": "Ml_el_5vN9SV"
      },
      "source": [
        "import torch\n",
        "import torch.nn as nn\n",
        "import torchvision.models as models\n",
        "import torch.nn.functional as F\n",
        "import numpy as np\n",
        "import torch.optim as optim"
      ],
      "execution_count": 2,
      "outputs": []
    },
    {
      "cell_type": "code",
      "metadata": {
        "id": "JazgBgV2PXB0"
      },
      "source": [
        "class LinearBNAC(nn.Module):\n",
        "    def __init__(self, in_channels, out_channels, bias = True, dropout = 0.3,is_output =False):\n",
        "        super(LinearBNAC,self).__init__()\n",
        "        if is_output and out_channels ==1:\n",
        "            self.linear ==nn.Sequential(\n",
        "                nn.Linear(in_channels,out_channels,bias =bias),\n",
        "                nn.Sigmoid()\n",
        "            )\n",
        "        elif is_output:\n",
        "            self.linear = nn.Sequential(nn.Linear(in_channels,out_channels, bias = bias),\n",
        "                        nn.Softmax(dim = 1)\n",
        "            )\n",
        "        else:\n",
        "            self.linear = nn.Sequential(\n",
        "                nn.Linear(in_channels,out_channels, bias = bias),\n",
        "                nn.Dropout(dropout),\n",
        "                nn.BatchNorm1d(out_channels),\n",
        "                nn.LeakyReLU(inplace = True)\n",
        "            )\n",
        "    def forward(self, x):\n",
        "        out = self.linear(x)\n",
        "        return out"
      ],
      "execution_count": 12,
      "outputs": []
    },
    {
      "cell_type": "code",
      "metadata": {
        "id": "AHj9oWeMQwq-"
      },
      "source": [
        "class Model(nn.Module):\n",
        "    def __init__(self, input_dimension,output_classes = 1):\n",
        "        super(Model,self).__init__()\n",
        "        self.layer1 = LinearBNAC(input_dimension,128)\n",
        "        self.layer2 = LinearBNAC(128,64)\n",
        "        self.layer3 = LinearBNAC(64,32)\n",
        "        self.output = LinearBNAC(32,output_classes, is_output = True)\n",
        "    def forward(self,x):\n",
        "        x = self.layer1(x)\n",
        "        x = self.layer2(x)\n",
        "        x = self.layer3(x)\n",
        "        x = self.output(x)\n",
        "        return x"
      ],
      "execution_count": 13,
      "outputs": []
    },
    {
      "cell_type": "code",
      "metadata": {
        "id": "sdM4gQK7Rsdi"
      },
      "source": [
        "model = Model(input_dimension = 256,output_classes = 10)\n",
        "optimizer = optim.Adam(params = model.parameters())"
      ],
      "execution_count": 14,
      "outputs": []
    },
    {
      "cell_type": "code",
      "metadata": {
        "id": "DR01LBPISDgM"
      },
      "source": [
        "batch_size = 4\n",
        "input_features = 256\n",
        "dummy_input = torch.randn(batch_size,input_features)\n",
        "target = torch.tensor([9.,5.,4.,4.],dtype =torch.long)"
      ],
      "execution_count": 16,
      "outputs": []
    },
    {
      "cell_type": "code",
      "metadata": {
        "colab": {
          "base_uri": "https://localhost:8080/"
        },
        "id": "PGoiFfE-UCdU",
        "outputId": "3ca35f83-6253-4492-d3ab-42568d8b02a9"
      },
      "source": [
        "output = model(dummy_input)\n",
        "print(output)"
      ],
      "execution_count": 19,
      "outputs": [
        {
          "output_type": "stream",
          "text": [
            "tensor([[0.1024, 0.1546, 0.0892, 0.1649, 0.0778, 0.0962, 0.0914, 0.1122, 0.0570,\n",
            "         0.0542],\n",
            "        [0.0560, 0.1267, 0.0485, 0.1055, 0.1204, 0.1097, 0.0739, 0.2145, 0.0831,\n",
            "         0.0617],\n",
            "        [0.1279, 0.1137, 0.0737, 0.0759, 0.0620, 0.1002, 0.0716, 0.1317, 0.1512,\n",
            "         0.0922],\n",
            "        [0.0818, 0.2158, 0.1194, 0.1474, 0.0805, 0.0651, 0.1217, 0.0614, 0.0638,\n",
            "         0.0432]], grad_fn=<SoftmaxBackward>)\n"
          ],
          "name": "stdout"
        }
      ]
    },
    {
      "cell_type": "code",
      "metadata": {
        "id": "j6SVhOmNWKm7"
      },
      "source": [
        "from torch.nn import NLLLoss, LogSoftmax, CrossEntropyLoss"
      ],
      "execution_count": 20,
      "outputs": []
    },
    {
      "cell_type": "code",
      "metadata": {
        "id": "z396F7EjWas5"
      },
      "source": [
        "criterion = CrossEntropyLoss()\n",
        "loss = criterion(torch.log(output),target)"
      ],
      "execution_count": 21,
      "outputs": []
    },
    {
      "cell_type": "code",
      "metadata": {
        "id": "yqOPBkv0Xozk"
      },
      "source": [
        "loss.backward()"
      ],
      "execution_count": 22,
      "outputs": []
    },
    {
      "cell_type": "code",
      "metadata": {
        "colab": {
          "base_uri": "https://localhost:8080/"
        },
        "id": "_H-y_qWQXqUG",
        "outputId": "7b7986aa-8930-4bd6-e4ba-595264b8e66b"
      },
      "source": [
        "print('weight : {}'.format(model.layer1.linear[0].weight))\n",
        "print('\\n')\n",
        "print('grad : {}'.format(model.layer1.linear[0].weight.grad))"
      ],
      "execution_count": 23,
      "outputs": [
        {
          "output_type": "stream",
          "text": [
            "weight : Parameter containing:\n",
            "tensor([[ 0.0597, -0.0338,  0.0356,  ..., -0.0240,  0.0238, -0.0577],\n",
            "        [-0.0329, -0.0046,  0.0065,  ...,  0.0557,  0.0048,  0.0243],\n",
            "        [-0.0542,  0.0012, -0.0263,  ..., -0.0415,  0.0573, -0.0622],\n",
            "        ...,\n",
            "        [ 0.0257,  0.0041,  0.0276,  ...,  0.0189, -0.0202, -0.0189],\n",
            "        [-0.0609, -0.0333, -0.0160,  ...,  0.0046, -0.0371, -0.0122],\n",
            "        [ 0.0574, -0.0518,  0.0545,  ..., -0.0020, -0.0300,  0.0072]],\n",
            "       requires_grad=True)\n",
            "\n",
            "\n",
            "grad : tensor([[ 0.0004,  0.0009, -0.0003,  ...,  0.0019, -0.0021,  0.0017],\n",
            "        [-0.0143, -0.0106, -0.0040,  ...,  0.0020, -0.0077,  0.0074],\n",
            "        [-0.0342,  0.0344,  0.0189,  ..., -0.0214,  0.0172,  0.0139],\n",
            "        ...,\n",
            "        [-0.0934, -0.0122, -0.0095,  ..., -0.0139, -0.0013,  0.0062],\n",
            "        [-0.0213, -0.0314, -0.0022,  ..., -0.0121, -0.0003,  0.0091],\n",
            "        [-0.0149, -0.0524,  0.0185,  ..., -0.0533,  0.0306,  0.0165]])\n"
          ],
          "name": "stdout"
        }
      ]
    },
    {
      "cell_type": "code",
      "metadata": {
        "id": "z7VA9zMrXvoD"
      },
      "source": [
        "optimizer.step()"
      ],
      "execution_count": 24,
      "outputs": []
    },
    {
      "cell_type": "code",
      "metadata": {
        "colab": {
          "base_uri": "https://localhost:8080/"
        },
        "id": "rxOdT_11X4Oi",
        "outputId": "4824baa4-5310-4196-aadd-ebfec85c4862"
      },
      "source": [
        "print('weight : {}'.format(model.layer1.linear[0].weight))\n",
        "print('\\n')\n",
        "print('grad : {}'.format(model.layer1.linear[0].weight.grad))"
      ],
      "execution_count": 25,
      "outputs": [
        {
          "output_type": "stream",
          "text": [
            "weight : Parameter containing:\n",
            "tensor([[ 0.0587, -0.0348,  0.0366,  ..., -0.0250,  0.0248, -0.0587],\n",
            "        [-0.0319, -0.0036,  0.0075,  ...,  0.0547,  0.0058,  0.0233],\n",
            "        [-0.0532,  0.0002, -0.0273,  ..., -0.0405,  0.0563, -0.0632],\n",
            "        ...,\n",
            "        [ 0.0267,  0.0051,  0.0286,  ...,  0.0199, -0.0192, -0.0199],\n",
            "        [-0.0599, -0.0323, -0.0150,  ...,  0.0056, -0.0361, -0.0132],\n",
            "        [ 0.0584, -0.0508,  0.0535,  ..., -0.0010, -0.0310,  0.0062]],\n",
            "       requires_grad=True)\n",
            "\n",
            "\n",
            "grad : tensor([[ 0.0004,  0.0009, -0.0003,  ...,  0.0019, -0.0021,  0.0017],\n",
            "        [-0.0143, -0.0106, -0.0040,  ...,  0.0020, -0.0077,  0.0074],\n",
            "        [-0.0342,  0.0344,  0.0189,  ..., -0.0214,  0.0172,  0.0139],\n",
            "        ...,\n",
            "        [-0.0934, -0.0122, -0.0095,  ..., -0.0139, -0.0013,  0.0062],\n",
            "        [-0.0213, -0.0314, -0.0022,  ..., -0.0121, -0.0003,  0.0091],\n",
            "        [-0.0149, -0.0524,  0.0185,  ..., -0.0533,  0.0306,  0.0165]])\n"
          ],
          "name": "stdout"
        }
      ]
    },
    {
      "cell_type": "code",
      "metadata": {
        "id": "YkBK_lN5X79N"
      },
      "source": [
        "optimizer.zero_grad()"
      ],
      "execution_count": 26,
      "outputs": []
    },
    {
      "cell_type": "code",
      "metadata": {
        "colab": {
          "base_uri": "https://localhost:8080/"
        },
        "id": "SD-H4KyqYJK-",
        "outputId": "d657da9a-023e-4850-d16e-36d5132a0e91"
      },
      "source": [
        "print('weight : {}'.format(model.layer1.linear[0].weight))\n",
        "print('\\n')\n",
        "print('grad : {}'.format(model.layer1.linear[0].weight.grad))"
      ],
      "execution_count": 27,
      "outputs": [
        {
          "output_type": "stream",
          "text": [
            "weight : Parameter containing:\n",
            "tensor([[ 0.0587, -0.0348,  0.0366,  ..., -0.0250,  0.0248, -0.0587],\n",
            "        [-0.0319, -0.0036,  0.0075,  ...,  0.0547,  0.0058,  0.0233],\n",
            "        [-0.0532,  0.0002, -0.0273,  ..., -0.0405,  0.0563, -0.0632],\n",
            "        ...,\n",
            "        [ 0.0267,  0.0051,  0.0286,  ...,  0.0199, -0.0192, -0.0199],\n",
            "        [-0.0599, -0.0323, -0.0150,  ...,  0.0056, -0.0361, -0.0132],\n",
            "        [ 0.0584, -0.0508,  0.0535,  ..., -0.0010, -0.0310,  0.0062]],\n",
            "       requires_grad=True)\n",
            "\n",
            "\n",
            "grad : tensor([[0., 0., 0.,  ..., 0., 0., 0.],\n",
            "        [0., 0., 0.,  ..., 0., 0., 0.],\n",
            "        [0., 0., 0.,  ..., 0., 0., 0.],\n",
            "        ...,\n",
            "        [0., 0., 0.,  ..., 0., 0., 0.],\n",
            "        [0., 0., 0.,  ..., 0., 0., 0.],\n",
            "        [0., 0., 0.,  ..., 0., 0., 0.]])\n"
          ],
          "name": "stdout"
        }
      ]
    },
    {
      "cell_type": "code",
      "metadata": {
        "id": "YOfsGkeXYL8C"
      },
      "source": [
        ""
      ],
      "execution_count": null,
      "outputs": []
    }
  ]
}