{
  "nbformat": 4,
  "nbformat_minor": 0,
  "metadata": {
    "colab": {
      "name": "Day4_Data_Loader.ipynb",
      "provenance": [],
      "collapsed_sections": []
    },
    "kernelspec": {
      "name": "python3",
      "display_name": "Python 3"
    },
    "language_info": {
      "name": "python"
    }
  },
  "cells": [
    {
      "cell_type": "code",
      "metadata": {
        "id": "ffe5FZyb1uyK"
      },
      "source": [
        "import numpy as np\n",
        "import random"
      ],
      "execution_count": 1,
      "outputs": []
    },
    {
      "cell_type": "markdown",
      "metadata": {
        "id": "7OveST0u91np"
      },
      "source": [
        "## Custom Data_loader"
      ]
    },
    {
      "cell_type": "code",
      "metadata": {
        "id": "UoHRL1rN16hj"
      },
      "source": [
        "#shuffle data\n",
        "def shuffle_aligned_list(data):\n",
        "  indice = list(range(len(data[0])))\n",
        "  random.shuffle(indice)\n",
        "  return (d[indice] for d in data)\n",
        "\n",
        "def data_loader(data, batch_size, shuffle=True):\n",
        "    \"\"\"Generate batches of data.\n",
        "    \"\"\"\n",
        "    if shuffle:\n",
        "        # do data shuffling\n",
        "        data = shuffle_aligned_list(data)\n",
        "\n",
        "    batch_count = 0\n",
        "    while True:\n",
        "        if batch_count * batch_size + batch_size > len(data[0]):\n",
        "            # if it's last batch, then reload data\n",
        "            batch_count = 0\n",
        "\n",
        "            if shuffle:\n",
        "                data = shuffle_aligned_list(data)\n",
        "                \n",
        "        # get start and end indice\n",
        "        start = batch_count * batch_size\n",
        "        end = start + batch_size\n",
        "        batch_count += 1\n",
        "        \n",
        "        yield [d[start:end] for d in data]"
      ],
      "execution_count": 17,
      "outputs": []
    },
    {
      "cell_type": "code",
      "metadata": {
        "id": "q4M9rA_Y4ZSM"
      },
      "source": [
        "# generate fake data\n",
        "x = np.array(range(1,101)).reshape((-1,5))\n",
        "y = np.array(range(1,21)).reshape((-1,1))"
      ],
      "execution_count": 18,
      "outputs": []
    },
    {
      "cell_type": "code",
      "metadata": {
        "id": "IL0OiZPk4awX"
      },
      "source": [
        "batch_size = 5\n",
        "epochs = 10\n",
        "batch_loader = data_loader([x,y], batch_size)"
      ],
      "execution_count": 23,
      "outputs": []
    },
    {
      "cell_type": "code",
      "metadata": {
        "id": "vnP47ETI4se0"
      },
      "source": [
        "for i in range(epochs):\n",
        "    for j in range(len(x)//batch_size):\n",
        "        batch_x, batch_y = next(batch_loader) \n",
        "        if int(i%2)==0:\n",
        "            print('Epoch %d'%int(i/2))\n",
        "            print(f'x: {batch_x}, y: {batch_y}')"
      ],
      "execution_count": null,
      "outputs": []
    },
    {
      "cell_type": "markdown",
      "metadata": {
        "id": "vR-Kokxz95AA"
      },
      "source": [
        "## Pytorch Data_Loader"
      ]
    },
    {
      "cell_type": "code",
      "metadata": {
        "id": "cr8M2-nZ5_P3"
      },
      "source": [
        "import torch\n",
        "from torch.utils.data import Dataset, DataLoader"
      ],
      "execution_count": 26,
      "outputs": []
    },
    {
      "cell_type": "code",
      "metadata": {
        "id": "z-UlbGwk8XEo"
      },
      "source": [
        "class CustomDataset(Dataset):\n",
        "  def __init__(self,data):\n",
        "    self.x = data[0]\n",
        "    self.y = data[1]\n",
        "  def __len__(self):\n",
        "    return len(self.x)\n",
        "  def __getitem__(self,idx):\n",
        "    x = torch.tensor(self.x[idx])\n",
        "    y = torch.tensor(self.y[idx])\n",
        "\n",
        "    return x, y"
      ],
      "execution_count": 29,
      "outputs": []
    },
    {
      "cell_type": "code",
      "metadata": {
        "id": "Tz86nE109TGA"
      },
      "source": [
        "x = np.array(range(1,101)).reshape((-1,5))\n",
        "y = np.array(range(1,21)).reshape((-1,1))"
      ],
      "execution_count": 30,
      "outputs": []
    },
    {
      "cell_type": "code",
      "metadata": {
        "colab": {
          "base_uri": "https://localhost:8080/"
        },
        "id": "rAqxZ5Nq9YJj",
        "outputId": "bc89db3b-d153-4f9c-979e-217dfaf660fe"
      },
      "source": [
        "custom_dataset = CustomDataset([x,y])\n",
        "custom_dataset[0]"
      ],
      "execution_count": 31,
      "outputs": [
        {
          "output_type": "execute_result",
          "data": {
            "text/plain": [
              "(tensor([1, 2, 3, 4, 5]), tensor([1]))"
            ]
          },
          "metadata": {
            "tags": []
          },
          "execution_count": 31
        }
      ]
    },
    {
      "cell_type": "code",
      "metadata": {
        "colab": {
          "base_uri": "https://localhost:8080/"
        },
        "id": "6bDsjNW99bzG",
        "outputId": "ee8b65f1-73bc-417b-d985-d480ef00527f"
      },
      "source": [
        "custom_dataloader = DataLoader(custom_dataset, batch_size=5, shuffle=True, num_workers=2)\n",
        "\n",
        "next(iter(custom_dataloader))"
      ],
      "execution_count": 32,
      "outputs": [
        {
          "output_type": "execute_result",
          "data": {
            "text/plain": [
              "[tensor([[ 1,  2,  3,  4,  5],\n",
              "         [76, 77, 78, 79, 80],\n",
              "         [31, 32, 33, 34, 35],\n",
              "         [86, 87, 88, 89, 90],\n",
              "         [61, 62, 63, 64, 65]]), tensor([[ 1],\n",
              "         [16],\n",
              "         [ 7],\n",
              "         [18],\n",
              "         [13]])]"
            ]
          },
          "metadata": {
            "tags": []
          },
          "execution_count": 32
        }
      ]
    },
    {
      "cell_type": "code",
      "metadata": {
        "colab": {
          "base_uri": "https://localhost:8080/"
        },
        "id": "v001Rd_h9kf5",
        "outputId": "3797f926-6417-457d-9d65-0ba6b72d8457"
      },
      "source": [
        "epochs = 10\n",
        "\n",
        "for i in range(epochs):\n",
        "    for data in custom_dataloader:\n",
        "        if int(i%2)==0:\n",
        "            print('Epoch %d'%int(i/2))\n",
        "            print(f'x: {data[0]}, y: {data[1]}')"
      ],
      "execution_count": 33,
      "outputs": [
        {
          "output_type": "stream",
          "text": [
            "Epoch 0\n",
            "x: tensor([[51, 52, 53, 54, 55],\n",
            "        [ 6,  7,  8,  9, 10],\n",
            "        [ 1,  2,  3,  4,  5],\n",
            "        [56, 57, 58, 59, 60],\n",
            "        [76, 77, 78, 79, 80]]), y: tensor([[11],\n",
            "        [ 2],\n",
            "        [ 1],\n",
            "        [12],\n",
            "        [16]])\n",
            "Epoch 0\n",
            "x: tensor([[ 66,  67,  68,  69,  70],\n",
            "        [ 11,  12,  13,  14,  15],\n",
            "        [ 16,  17,  18,  19,  20],\n",
            "        [ 96,  97,  98,  99, 100],\n",
            "        [ 26,  27,  28,  29,  30]]), y: tensor([[14],\n",
            "        [ 3],\n",
            "        [ 4],\n",
            "        [20],\n",
            "        [ 6]])\n",
            "Epoch 0\n",
            "x: tensor([[36, 37, 38, 39, 40],\n",
            "        [31, 32, 33, 34, 35],\n",
            "        [21, 22, 23, 24, 25],\n",
            "        [61, 62, 63, 64, 65],\n",
            "        [71, 72, 73, 74, 75]]), y: tensor([[ 8],\n",
            "        [ 7],\n",
            "        [ 5],\n",
            "        [13],\n",
            "        [15]])\n",
            "Epoch 0\n",
            "x: tensor([[86, 87, 88, 89, 90],\n",
            "        [91, 92, 93, 94, 95],\n",
            "        [41, 42, 43, 44, 45],\n",
            "        [46, 47, 48, 49, 50],\n",
            "        [81, 82, 83, 84, 85]]), y: tensor([[18],\n",
            "        [19],\n",
            "        [ 9],\n",
            "        [10],\n",
            "        [17]])\n",
            "Epoch 1\n",
            "x: tensor([[21, 22, 23, 24, 25],\n",
            "        [91, 92, 93, 94, 95],\n",
            "        [71, 72, 73, 74, 75],\n",
            "        [76, 77, 78, 79, 80],\n",
            "        [46, 47, 48, 49, 50]]), y: tensor([[ 5],\n",
            "        [19],\n",
            "        [15],\n",
            "        [16],\n",
            "        [10]])\n",
            "Epoch 1\n",
            "x: tensor([[66, 67, 68, 69, 70],\n",
            "        [56, 57, 58, 59, 60],\n",
            "        [86, 87, 88, 89, 90],\n",
            "        [ 1,  2,  3,  4,  5],\n",
            "        [16, 17, 18, 19, 20]]), y: tensor([[14],\n",
            "        [12],\n",
            "        [18],\n",
            "        [ 1],\n",
            "        [ 4]])\n",
            "Epoch 1\n",
            "x: tensor([[ 11,  12,  13,  14,  15],\n",
            "        [ 81,  82,  83,  84,  85],\n",
            "        [ 96,  97,  98,  99, 100],\n",
            "        [ 61,  62,  63,  64,  65],\n",
            "        [ 41,  42,  43,  44,  45]]), y: tensor([[ 3],\n",
            "        [17],\n",
            "        [20],\n",
            "        [13],\n",
            "        [ 9]])\n",
            "Epoch 1\n",
            "x: tensor([[31, 32, 33, 34, 35],\n",
            "        [26, 27, 28, 29, 30],\n",
            "        [ 6,  7,  8,  9, 10],\n",
            "        [51, 52, 53, 54, 55],\n",
            "        [36, 37, 38, 39, 40]]), y: tensor([[ 7],\n",
            "        [ 6],\n",
            "        [ 2],\n",
            "        [11],\n",
            "        [ 8]])\n",
            "Epoch 2\n",
            "x: tensor([[26, 27, 28, 29, 30],\n",
            "        [36, 37, 38, 39, 40],\n",
            "        [ 1,  2,  3,  4,  5],\n",
            "        [71, 72, 73, 74, 75],\n",
            "        [ 6,  7,  8,  9, 10]]), y: tensor([[ 6],\n",
            "        [ 8],\n",
            "        [ 1],\n",
            "        [15],\n",
            "        [ 2]])\n",
            "Epoch 2\n",
            "x: tensor([[91, 92, 93, 94, 95],\n",
            "        [41, 42, 43, 44, 45],\n",
            "        [31, 32, 33, 34, 35],\n",
            "        [21, 22, 23, 24, 25],\n",
            "        [66, 67, 68, 69, 70]]), y: tensor([[19],\n",
            "        [ 9],\n",
            "        [ 7],\n",
            "        [ 5],\n",
            "        [14]])\n",
            "Epoch 2\n",
            "x: tensor([[ 81,  82,  83,  84,  85],\n",
            "        [ 16,  17,  18,  19,  20],\n",
            "        [ 96,  97,  98,  99, 100],\n",
            "        [ 51,  52,  53,  54,  55],\n",
            "        [ 46,  47,  48,  49,  50]]), y: tensor([[17],\n",
            "        [ 4],\n",
            "        [20],\n",
            "        [11],\n",
            "        [10]])\n",
            "Epoch 2\n",
            "x: tensor([[86, 87, 88, 89, 90],\n",
            "        [56, 57, 58, 59, 60],\n",
            "        [11, 12, 13, 14, 15],\n",
            "        [76, 77, 78, 79, 80],\n",
            "        [61, 62, 63, 64, 65]]), y: tensor([[18],\n",
            "        [12],\n",
            "        [ 3],\n",
            "        [16],\n",
            "        [13]])\n",
            "Epoch 3\n",
            "x: tensor([[16, 17, 18, 19, 20],\n",
            "        [61, 62, 63, 64, 65],\n",
            "        [51, 52, 53, 54, 55],\n",
            "        [66, 67, 68, 69, 70],\n",
            "        [71, 72, 73, 74, 75]]), y: tensor([[ 4],\n",
            "        [13],\n",
            "        [11],\n",
            "        [14],\n",
            "        [15]])\n",
            "Epoch 3\n",
            "x: tensor([[ 6,  7,  8,  9, 10],\n",
            "        [91, 92, 93, 94, 95],\n",
            "        [56, 57, 58, 59, 60],\n",
            "        [11, 12, 13, 14, 15],\n",
            "        [ 1,  2,  3,  4,  5]]), y: tensor([[ 2],\n",
            "        [19],\n",
            "        [12],\n",
            "        [ 3],\n",
            "        [ 1]])\n",
            "Epoch 3\n",
            "x: tensor([[ 76,  77,  78,  79,  80],\n",
            "        [ 46,  47,  48,  49,  50],\n",
            "        [ 81,  82,  83,  84,  85],\n",
            "        [ 86,  87,  88,  89,  90],\n",
            "        [ 96,  97,  98,  99, 100]]), y: tensor([[16],\n",
            "        [10],\n",
            "        [17],\n",
            "        [18],\n",
            "        [20]])\n",
            "Epoch 3\n",
            "x: tensor([[36, 37, 38, 39, 40],\n",
            "        [21, 22, 23, 24, 25],\n",
            "        [41, 42, 43, 44, 45],\n",
            "        [26, 27, 28, 29, 30],\n",
            "        [31, 32, 33, 34, 35]]), y: tensor([[8],\n",
            "        [5],\n",
            "        [9],\n",
            "        [6],\n",
            "        [7]])\n",
            "Epoch 4\n",
            "x: tensor([[ 66,  67,  68,  69,  70],\n",
            "        [ 26,  27,  28,  29,  30],\n",
            "        [ 96,  97,  98,  99, 100],\n",
            "        [ 86,  87,  88,  89,  90],\n",
            "        [ 81,  82,  83,  84,  85]]), y: tensor([[14],\n",
            "        [ 6],\n",
            "        [20],\n",
            "        [18],\n",
            "        [17]])\n",
            "Epoch 4\n",
            "x: tensor([[71, 72, 73, 74, 75],\n",
            "        [41, 42, 43, 44, 45],\n",
            "        [ 1,  2,  3,  4,  5],\n",
            "        [46, 47, 48, 49, 50],\n",
            "        [61, 62, 63, 64, 65]]), y: tensor([[15],\n",
            "        [ 9],\n",
            "        [ 1],\n",
            "        [10],\n",
            "        [13]])\n",
            "Epoch 4\n",
            "x: tensor([[ 6,  7,  8,  9, 10],\n",
            "        [76, 77, 78, 79, 80],\n",
            "        [16, 17, 18, 19, 20],\n",
            "        [36, 37, 38, 39, 40],\n",
            "        [11, 12, 13, 14, 15]]), y: tensor([[ 2],\n",
            "        [16],\n",
            "        [ 4],\n",
            "        [ 8],\n",
            "        [ 3]])\n",
            "Epoch 4\n",
            "x: tensor([[31, 32, 33, 34, 35],\n",
            "        [51, 52, 53, 54, 55],\n",
            "        [21, 22, 23, 24, 25],\n",
            "        [56, 57, 58, 59, 60],\n",
            "        [91, 92, 93, 94, 95]]), y: tensor([[ 7],\n",
            "        [11],\n",
            "        [ 5],\n",
            "        [12],\n",
            "        [19]])\n"
          ],
          "name": "stdout"
        }
      ]
    },
    {
      "cell_type": "code",
      "metadata": {
        "id": "fTa5sRlY9opK"
      },
      "source": [
        ""
      ],
      "execution_count": null,
      "outputs": []
    }
  ]
}