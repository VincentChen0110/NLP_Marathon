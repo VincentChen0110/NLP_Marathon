{
  "nbformat": 4,
  "nbformat_minor": 0,
  "metadata": {
    "colab": {
      "name": "Day2_Pytorch_Tensors.ipynb",
      "provenance": []
    },
    "kernelspec": {
      "name": "python3",
      "display_name": "Python 3"
    },
    "language_info": {
      "name": "python"
    }
  },
  "cells": [
    {
      "cell_type": "code",
      "metadata": {
        "id": "SDRnAkOwbpld"
      },
      "source": [
        "import torch\n",
        "import numpy as np"
      ],
      "execution_count": 2,
      "outputs": []
    },
    {
      "cell_type": "markdown",
      "metadata": {
        "id": "4wEW1O2wc-d2"
      },
      "source": [
        "## Tensor to Array"
      ]
    },
    {
      "cell_type": "code",
      "metadata": {
        "colab": {
          "base_uri": "https://localhost:8080/"
        },
        "id": "VwjYiFpXbxt5",
        "outputId": "8538a65f-21a3-4a4b-980e-751cbd4ac1de"
      },
      "source": [
        "# Example 1 - Transform tensors and arrays\n",
        "a = np.random.rand(1,2,3,3)\n",
        "print(f'a: {type(a)}, {a.dtype}')\n",
        "b = torch.from_numpy(a)\n",
        "print(f'b: {type(b)}, {b.dtype}')\n",
        "c = torch.tensor(a)\n",
        "print(f'c: {type(c)}, {c.dtype}')\n",
        "d = c.numpy()\n",
        "print(f'd: {type(d)}, {d.dtype}')"
      ],
      "execution_count": 2,
      "outputs": [
        {
          "output_type": "stream",
          "text": [
            "a: <class 'numpy.ndarray'>, float64\n",
            "b: <class 'torch.Tensor'>, torch.float64\n",
            "c: <class 'torch.Tensor'>, torch.float64\n",
            "d: <class 'numpy.ndarray'>, float64\n"
          ],
          "name": "stdout"
        }
      ]
    },
    {
      "cell_type": "code",
      "metadata": {
        "colab": {
          "base_uri": "https://localhost:8080/"
        },
        "id": "fIVMli2yb6We",
        "outputId": "aef25571-7492-4326-8bad-9fa700ff5090"
      },
      "source": [
        "# Example 2 - Transform tensors and arrays integers\n",
        "a = np.random.randint(low=0, high=10, size=(2,2))\n",
        "print(f'a: {type(a)}, {a.dtype}')\n",
        "b = torch.from_numpy(a)\n",
        "print(f'b: {type(b)}, {b.dtype}')\n",
        "c = torch.tensor(a)\n",
        "print(f'c: {type(c)}, {c.dtype}')\n",
        "d = c.numpy()\n",
        "print(f'd: {type(d)}, {d.dtype}')"
      ],
      "execution_count": 4,
      "outputs": [
        {
          "output_type": "stream",
          "text": [
            "a: <class 'numpy.ndarray'>, int64\n",
            "b: <class 'torch.Tensor'>, torch.int64\n",
            "c: <class 'torch.Tensor'>, torch.int64\n",
            "d: <class 'numpy.ndarray'>, int64\n"
          ],
          "name": "stdout"
        }
      ]
    },
    {
      "cell_type": "markdown",
      "metadata": {
        "id": "Uyd2iEucdD_-"
      },
      "source": [
        "## Tensor Addition"
      ]
    },
    {
      "cell_type": "code",
      "metadata": {
        "colab": {
          "base_uri": "https://localhost:8080/"
        },
        "id": "EFZq_sJPcGR9",
        "outputId": "b9fd8b6c-00a5-4d26-dc43-143f2e8568e9"
      },
      "source": [
        "# Example 3 - Tensor Addition\n",
        "a = torch.randn((2,3))\n",
        "b = torch.randn(3)\n",
        "print(a.shape, b.shape)\n",
        "print(a, b)\n",
        "t_add1 = a + b\n",
        "t_add2 = torch.add(a,b)\n",
        "print(t_add1.shape, t_add2.shape)\n",
        "print(t_add1, t_add2)"
      ],
      "execution_count": 5,
      "outputs": [
        {
          "output_type": "stream",
          "text": [
            "torch.Size([2, 3]) torch.Size([3])\n",
            "tensor([[ 0.4055,  0.5707, -0.1432],\n",
            "        [-2.5610, -0.8068, -0.3008]]) tensor([-0.4524, -0.7087,  0.7100])\n",
            "torch.Size([2, 3]) torch.Size([2, 3])\n",
            "tensor([[-0.0469, -0.1380,  0.5668],\n",
            "        [-3.0134, -1.5155,  0.4092]]) tensor([[-0.0469, -0.1380,  0.5668],\n",
            "        [-3.0134, -1.5155,  0.4092]])\n"
          ],
          "name": "stdout"
        }
      ]
    },
    {
      "cell_type": "markdown",
      "metadata": {
        "id": "UpdsNNexdHP3"
      },
      "source": [
        "## Tensor Multiplication"
      ]
    },
    {
      "cell_type": "code",
      "metadata": {
        "colab": {
          "base_uri": "https://localhost:8080/"
        },
        "id": "08a3pKbUcz0T",
        "outputId": "359b2424-e31f-46e5-ba83-8785d4cefafe"
      },
      "source": [
        "# Example 4 - Tensor Multiplication\n",
        "t_mul1 = a * b\n",
        "t_mul2 = torch.mul(a, b)\n",
        "print(t_mul1.shape, t_mul2.shape)\n",
        "print(t_mul1, t_mul2)"
      ],
      "execution_count": 7,
      "outputs": [
        {
          "output_type": "stream",
          "text": [
            "torch.Size([2, 3]) torch.Size([2, 3])\n",
            "tensor([[-0.1834, -0.4045, -0.1017],\n",
            "        [ 1.1586,  0.5718, -0.2136]]) tensor([[-0.1834, -0.4045, -0.1017],\n",
            "        [ 1.1586,  0.5718, -0.2136]])\n"
          ],
          "name": "stdout"
        }
      ]
    },
    {
      "cell_type": "markdown",
      "metadata": {
        "id": "thy4o9Jfdngl"
      },
      "source": [
        "## Tensor Reshape"
      ]
    },
    {
      "cell_type": "code",
      "metadata": {
        "colab": {
          "base_uri": "https://localhost:8080/"
        },
        "id": "Ed91jDkEdRHh",
        "outputId": "991f03b8-8c1b-4437-81a3-d44fbb6c2f38"
      },
      "source": [
        "a = torch.tensor([[[1, 2, 3], [3, 4, 5]],[[5, 6, 7], [7, 8, 9]]])\n",
        "print(a.shape)\n",
        "b = a.reshape(2, 6)\n",
        "c = a.view(2, 6)\n",
        "d = a.reshape(2, -1) ##flatten to [2,12/6]\n",
        "print(b.shape, c.shape, d.shape)\n",
        "print(b,c,d)"
      ],
      "execution_count": 3,
      "outputs": [
        {
          "output_type": "stream",
          "text": [
            "torch.Size([2, 2, 3])\n",
            "torch.Size([2, 6]) torch.Size([2, 6]) torch.Size([2, 6])\n",
            "tensor([[1, 2, 3, 3, 4, 5],\n",
            "        [5, 6, 7, 7, 8, 9]]) tensor([[1, 2, 3, 3, 4, 5],\n",
            "        [5, 6, 7, 7, 8, 9]]) tensor([[1, 2, 3, 3, 4, 5],\n",
            "        [5, 6, 7, 7, 8, 9]])\n"
          ],
          "name": "stdout"
        }
      ]
    },
    {
      "cell_type": "markdown",
      "metadata": {
        "id": "2VaGoWAtdPmf"
      },
      "source": [
        "## Change Dimensions"
      ]
    },
    {
      "cell_type": "code",
      "metadata": {
        "colab": {
          "base_uri": "https://localhost:8080/"
        },
        "id": "6HsbibRUd6Yo",
        "outputId": "0fdc3dd4-7230-4ba8-82c7-356be3db7119"
      },
      "source": [
        "#expand dimension\n",
        "g = torch.unsqueeze(a, dim=1) \n",
        "#squeeze dimension\n",
        "h = torch.squeeze(g) \n",
        "print(g.shape, h.shape)"
      ],
      "execution_count": 4,
      "outputs": [
        {
          "output_type": "stream",
          "text": [
            "torch.Size([2, 1, 2, 3]) torch.Size([2, 2, 3])\n"
          ],
          "name": "stdout"
        }
      ]
    },
    {
      "cell_type": "code",
      "metadata": {
        "id": "9TUY_UXJa3fA"
      },
      "source": [
        ""
      ],
      "execution_count": null,
      "outputs": []
    }
  ]
}