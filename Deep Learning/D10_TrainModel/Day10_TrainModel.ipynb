{
  "nbformat": 4,
  "nbformat_minor": 0,
  "metadata": {
    "colab": {
      "name": "Day10_TrainModel.ipynb",
      "provenance": [],
      "collapsed_sections": []
    },
    "kernelspec": {
      "name": "python3",
      "display_name": "Python 3"
    },
    "language_info": {
      "name": "python"
    },
    "accelerator": "GPU"
  },
  "cells": [
    {
      "cell_type": "code",
      "metadata": {
        "id": "2YXNpMzxI7L8"
      },
      "source": [
        "import torch\n",
        "import torch.nn as nn\n",
        "import torchvision.models as models\n",
        "import torch.nn.functional as F\n",
        "import numpy as np\n",
        "import matplotlib.pyplot as plt\n",
        "import pandas as pd\n",
        "import os\n",
        "import glob\n",
        "import codecs\n",
        "import re\n",
        "\n",
        "from sklearn.model_selection import train_test_split\n",
        "from sklearn import metrics\n",
        "from sklearn.metrics import classification_report"
      ],
      "execution_count": 1,
      "outputs": []
    },
    {
      "cell_type": "code",
      "metadata": {
        "id": "-Pu_xlRYKIf7"
      },
      "source": [
        "all_data = []\n",
        "for root, dirs, files in os.walk(\"/content/drive/MyDrive/Colab Notebooks/NLP_Marathon_DL/Data/spam_data\"):\n",
        "    for name in files:\n",
        "        filename = os.path.join(root, name)\n",
        "        is_spam = 0 if 'ham' in filename else 1\n",
        "        # codecs.open可以避開錯誤，用errors='ignore'\n",
        "        with codecs.open(filename, encoding='utf-8', errors='ignore') as f:\n",
        "            for line in f.readlines():\n",
        "                # 這個line的開頭為Subject:\n",
        "                if line.startswith('Subject:'):\n",
        "                    subject = re.sub(r'^Subject:', '', line).strip()\n",
        "                    all_data.append([subject, is_spam])\n",
        "all_data = np.array(all_data)"
      ],
      "execution_count": 11,
      "outputs": []
    },
    {
      "cell_type": "code",
      "metadata": {
        "id": "LV4sLsdpK5gf"
      },
      "source": [
        "X = all_data[:,0]\n",
        "Y = all_data[:,1].astype(np.uint8)"
      ],
      "execution_count": 12,
      "outputs": []
    },
    {
      "cell_type": "code",
      "metadata": {
        "colab": {
          "base_uri": "https://localhost:8080/"
        },
        "id": "OX435GRsMPRX",
        "outputId": "992a300b-6a2b-4a04-8dc0-32db261935cd"
      },
      "source": [
        "from sklearn.metrics import confusion_matrix\n",
        "from nltk.corpus import stopwords\n",
        "\n",
        "import nltk\n",
        "\n",
        "nltk.download('stopwords')\n",
        "nltk.download('punkt')\n",
        "nltk.download('averaged_perceptron_tagger')\n",
        "nltk.download('wordnet')\n",
        "# Lemmatize with POS Tag\n",
        "from nltk.corpus import wordnet\n",
        "from nltk.stem import WordNetLemmatizer \n",
        "\n",
        "## 創建Lemmatizer\n",
        "lemmatizer = WordNetLemmatizer() \n",
        "def get_wordnet_pos(word):\n",
        "    \"\"\"將pos_tag結果mapping到lemmatizer中pos的格式\"\"\"\n",
        "    tag = nltk.pos_tag([word])[0][1][0].upper()\n",
        "    tag_dict = {\"J\": wordnet.ADJ,\n",
        "                \"N\": wordnet.NOUN,\n",
        "                \"V\": wordnet.VERB,\n",
        "                \"R\": wordnet.ADV}\n",
        "\n",
        "    return tag_dict.get(tag, wordnet.NOUN)\n",
        "\n",
        "\n",
        "def clean_content(X):\n",
        "    # remove non-alphabet characters\n",
        "    X_clean = [re.sub('[^a-zA-Z]',' ', x).lower() for x in X]\n",
        "    # tokenize\n",
        "    X_word_tokenize = [nltk.word_tokenize(x) for x in X_clean]\n",
        "    # stopwords_lemmatizer\n",
        "    X_stopwords_lemmatizer = []\n",
        "    stop_words = set(stopwords.words('english'))\n",
        "    for content in X_word_tokenize:\n",
        "        content_clean = []\n",
        "        for word in content:\n",
        "            if word not in stop_words:\n",
        "                word = lemmatizer.lemmatize(word, get_wordnet_pos(word))\n",
        "                content_clean.append(word)\n",
        "        X_stopwords_lemmatizer.append(content_clean)\n",
        "    \n",
        "    X_output = [' '.join(x) for x in X_stopwords_lemmatizer]\n",
        "    \n",
        "    return X_output"
      ],
      "execution_count": 13,
      "outputs": [
        {
          "output_type": "stream",
          "text": [
            "[nltk_data] Downloading package stopwords to /root/nltk_data...\n",
            "[nltk_data]   Package stopwords is already up-to-date!\n",
            "[nltk_data] Downloading package punkt to /root/nltk_data...\n",
            "[nltk_data]   Package punkt is already up-to-date!\n",
            "[nltk_data] Downloading package averaged_perceptron_tagger to\n",
            "[nltk_data]     /root/nltk_data...\n",
            "[nltk_data]   Package averaged_perceptron_tagger is already up-to-\n",
            "[nltk_data]       date!\n",
            "[nltk_data] Downloading package wordnet to /root/nltk_data...\n",
            "[nltk_data]   Package wordnet is already up-to-date!\n"
          ],
          "name": "stdout"
        }
      ]
    },
    {
      "cell_type": "code",
      "metadata": {
        "id": "qTRbOtbqNCRe"
      },
      "source": [
        "X = clean_content(X)"
      ],
      "execution_count": 14,
      "outputs": []
    },
    {
      "cell_type": "code",
      "metadata": {
        "id": "HG8HIArsNCzw"
      },
      "source": [
        "from sklearn.feature_extraction.text import CountVectorizer\n",
        "#max_features是要建造幾個column，會按造字出現的頻率高低去篩選，1500並沒有特別含義，大家可以自己嘗試不同數值或不加入限制\n",
        "cv=CountVectorizer(max_features = 2000)\n",
        "X=cv.fit_transform(X).toarray()"
      ],
      "execution_count": 15,
      "outputs": []
    },
    {
      "cell_type": "code",
      "metadata": {
        "id": "fpWtjlw9NGit"
      },
      "source": [
        "from sklearn.model_selection import train_test_split\n",
        "# random_state是為了讓各為學員得到相同的結果，平時可以移除\n",
        "x_train, x_test, y_train, y_test = train_test_split(X, Y, test_size = 0.2, random_state = 0)"
      ],
      "execution_count": 16,
      "outputs": []
    },
    {
      "cell_type": "code",
      "metadata": {
        "colab": {
          "base_uri": "https://localhost:8080/"
        },
        "id": "vl4K_0lOpByW",
        "outputId": "f11f8921-3afb-4dd9-fc7a-93ed66212c1c"
      },
      "source": [
        "np.unique(y_train)"
      ],
      "execution_count": 17,
      "outputs": [
        {
          "output_type": "execute_result",
          "data": {
            "text/plain": [
              "array([0, 1], dtype=uint8)"
            ]
          },
          "metadata": {
            "tags": []
          },
          "execution_count": 17
        }
      ]
    },
    {
      "cell_type": "code",
      "metadata": {
        "id": "7ZQze-SgUmgI"
      },
      "source": [
        "device = 'cuda' if torch.cuda.is_available() else 'cpu'"
      ],
      "execution_count": 18,
      "outputs": []
    },
    {
      "cell_type": "code",
      "metadata": {
        "id": "Y8hpjEq6UrXr"
      },
      "source": [
        "class LinearBNAC(nn.Module):\n",
        "    def __init__(self,in_channels,out_channels,bias = True, dropout=0.3, is_output=False):\n",
        "        super(LinearBNAC,self).__init__()\n",
        "        if is_output:\n",
        "            self.linear = nn.Linear(in_channels,out_channels, bias = bias)\n",
        "        else:\n",
        "            self.linear = nn.Sequential(\n",
        "                nn.Linear(in_channels,out_channels,bias=bias),\n",
        "                nn.BatchNorm1d(out_channels),\n",
        "                nn.LeakyReLU(inplace = True),\n",
        "                nn.Dropout(dropout)\n",
        "            )\n",
        "    def forward(self,x):\n",
        "        out= self.linear(x)\n",
        "        return out"
      ],
      "execution_count": 19,
      "outputs": []
    },
    {
      "cell_type": "code",
      "metadata": {
        "id": "OswhKD2dVzYf"
      },
      "source": [
        "class Model(nn.Module):\n",
        "    def __init__(self, input_dimension,output_classes=1):\n",
        "        super(Model,self).__init__()\n",
        "        self.layer1 = LinearBNAC(input_dimension,16)\n",
        "        self.layer2 = LinearBNAC(16,32)\n",
        "        self.output = LinearBNAC(32,output_classes,is_output = True)\n",
        "    def forward(self,x):\n",
        "        x = self.layer1(x)\n",
        "        x = self.layer2(x)\n",
        "        x = self.output(x)\n",
        "        return x"
      ],
      "execution_count": 20,
      "outputs": []
    },
    {
      "cell_type": "code",
      "metadata": {
        "id": "TAYR5gcUWVoL"
      },
      "source": [
        "model = Model(input_dimension = 2000 ,output_classes = 2).to(device)"
      ],
      "execution_count": 21,
      "outputs": []
    },
    {
      "cell_type": "code",
      "metadata": {
        "colab": {
          "base_uri": "https://localhost:8080/"
        },
        "id": "BB5AYTFpaU7F",
        "outputId": "1fa240f7-aff7-44d4-8d7e-696eb28d1b10"
      },
      "source": [
        "for name,_ in model.named_parameters():\n",
        "    print(name, _.shape)"
      ],
      "execution_count": 22,
      "outputs": [
        {
          "output_type": "stream",
          "text": [
            "layer1.linear.0.weight torch.Size([16, 2000])\n",
            "layer1.linear.0.bias torch.Size([16])\n",
            "layer1.linear.1.weight torch.Size([16])\n",
            "layer1.linear.1.bias torch.Size([16])\n",
            "layer2.linear.0.weight torch.Size([32, 16])\n",
            "layer2.linear.0.bias torch.Size([32])\n",
            "layer2.linear.1.weight torch.Size([32])\n",
            "layer2.linear.1.bias torch.Size([32])\n",
            "output.linear.weight torch.Size([2, 32])\n",
            "output.linear.bias torch.Size([2])\n"
          ],
          "name": "stdout"
        }
      ]
    },
    {
      "cell_type": "code",
      "metadata": {
        "id": "ndEYIm5hWeB9"
      },
      "source": [
        "batch_size = 4\n",
        "input_features = 2000\n",
        "dummy_input = torch.randn(batch_size,input_features).to(device)"
      ],
      "execution_count": 23,
      "outputs": []
    },
    {
      "cell_type": "code",
      "metadata": {
        "colab": {
          "base_uri": "https://localhost:8080/"
        },
        "id": "8lj74wAYlkD0",
        "outputId": "62c9ebc6-8c7f-49d4-8b57-4b845c759b1f"
      },
      "source": [
        "dummy_output = model(dummy_input)\n",
        "print(dummy_output)"
      ],
      "execution_count": 24,
      "outputs": [
        {
          "output_type": "stream",
          "text": [
            "tensor([[ 0.5248,  0.3767],\n",
            "        [ 0.0155, -0.9396],\n",
            "        [ 0.2833, -0.6844],\n",
            "        [ 0.3711, -0.1468]], device='cuda:0', grad_fn=<AddmmBackward>)\n"
          ],
          "name": "stdout"
        }
      ]
    },
    {
      "cell_type": "code",
      "metadata": {
        "id": "uSeddtMtaA-W"
      },
      "source": [
        "from torch.nn import NLLLoss, LogSoftmax, CrossEntropyLoss"
      ],
      "execution_count": 25,
      "outputs": []
    },
    {
      "cell_type": "code",
      "metadata": {
        "id": "jK4Iak3Galgl"
      },
      "source": [
        "criterion = CrossEntropyLoss()"
      ],
      "execution_count": 26,
      "outputs": []
    },
    {
      "cell_type": "code",
      "metadata": {
        "id": "KqbPWM70aoId"
      },
      "source": [
        "import torch.optim as optim"
      ],
      "execution_count": 27,
      "outputs": []
    },
    {
      "cell_type": "code",
      "metadata": {
        "id": "nC3R8d78aqYI"
      },
      "source": [
        "optimizer = optim.Adam(params = model.parameters(),lr = 1e-3)"
      ],
      "execution_count": 28,
      "outputs": []
    },
    {
      "cell_type": "code",
      "metadata": {
        "id": "uMG7f-tHav4O"
      },
      "source": [
        "x_train = torch.tensor(x_train, dtype=torch.float32).to(device)\n",
        "x_test = torch.tensor(x_test, dtype=torch.float32).to(device)\n",
        "\n",
        "y_train_numpy = y_train.copy()\n",
        "y_test_numpy = y_test.copy()\n",
        "\n",
        "y_train = torch.tensor(y_train, dtype=torch.long).to(device)\n",
        "y_test = torch.tensor(y_test, dtype=torch.long).to(device)"
      ],
      "execution_count": 29,
      "outputs": []
    },
    {
      "cell_type": "code",
      "metadata": {
        "id": "W1VIknWGazzU"
      },
      "source": [
        "batch_size = 4\n",
        "epochs = 50\n",
        "softmax = nn.Softmax(-1)\n",
        "\n",
        "index = np.array([x for x in range(len(x_train))])"
      ],
      "execution_count": 30,
      "outputs": []
    },
    {
      "cell_type": "code",
      "metadata": {
        "colab": {
          "base_uri": "https://localhost:8080/"
        },
        "id": "N2bZ5NRra11-",
        "outputId": "ea95b8bb-ac01-48d6-db62-a3b626fdc394"
      },
      "source": [
        "train_loss_ = []\n",
        "test_loss_ = []\n",
        "train_accuracy_ = []\n",
        "test_accuracy_ = []\n",
        "for epoch in range(epochs):   \n",
        "    np.random.shuffle(index)\n",
        "    x_train = x_train[index]\n",
        "    y_train = y_train[index]\n",
        "\n",
        "    loss_keeper = []\n",
        "    model.train()\n",
        "\n",
        "    for batch in range(len(x_train) // batch_size):\n",
        "        x = x_train[batch * batch_size:(batch + 1) * batch_size,:]\n",
        "        y = y_train[batch * batch_size:(batch + 1) * batch_size]\n",
        "        output = model(x)\n",
        "        loss_train = criterion(output, y)\n",
        "        loss_train.backward()\n",
        "        optimizer.step()\n",
        "        optimizer.zero_grad()\n",
        "\n",
        "        loss_train = loss_train.detach().cpu().item()\n",
        "        loss_keeper.append(loss_train)    \n",
        "    \n",
        "    model.eval()\n",
        "    output = model(x_test)\n",
        "    prediction = softmax(output)\n",
        "    prediction = torch.argmax(prediction,1).detach().cpu().numpy()\n",
        "    test_accuracy = metrics.accuracy_score(prediction, y_test_numpy)\n",
        "    loss_test = criterion(output, y_test)\n",
        "    loss_test = loss_test.detach().cpu().item()\n",
        "    train_loss_.append(np.mean(loss_keeper))\n",
        "    test_loss_.append(loss_test)\n",
        "    \n",
        "    if epoch % 2 == 0:\n",
        "        print(f'epoch : {epoch}')\n",
        "        print(f'目前 train loss : {np.mean(loss_keeper):.2f}')\n",
        "        print(f'目前 test loss : {loss_test:.2f}')\n",
        "        print(f'目前 test accuracy : {test_accuracy:.2f}')"
      ],
      "execution_count": 31,
      "outputs": [
        {
          "output_type": "stream",
          "text": [
            "epoch : 0\n",
            "目前 train loss : 0.41\n",
            "目前 test loss : 0.34\n",
            "目前 test accuracy : 0.86\n",
            "epoch : 2\n",
            "目前 train loss : 0.29\n",
            "目前 test loss : 0.26\n",
            "目前 test accuracy : 0.91\n",
            "epoch : 4\n",
            "目前 train loss : 0.24\n",
            "目前 test loss : 0.25\n",
            "目前 test accuracy : 0.90\n",
            "epoch : 6\n",
            "目前 train loss : 0.22\n",
            "目前 test loss : 0.22\n",
            "目前 test accuracy : 0.91\n",
            "epoch : 8\n",
            "目前 train loss : 0.20\n",
            "目前 test loss : 0.21\n",
            "目前 test accuracy : 0.91\n",
            "epoch : 10\n",
            "目前 train loss : 0.19\n",
            "目前 test loss : 0.22\n",
            "目前 test accuracy : 0.91\n",
            "epoch : 12\n",
            "目前 train loss : 0.18\n",
            "目前 test loss : 0.22\n",
            "目前 test accuracy : 0.90\n",
            "epoch : 14\n",
            "目前 train loss : 0.16\n",
            "目前 test loss : 0.24\n",
            "目前 test accuracy : 0.90\n",
            "epoch : 16\n",
            "目前 train loss : 0.16\n",
            "目前 test loss : 0.22\n",
            "目前 test accuracy : 0.90\n",
            "epoch : 18\n",
            "目前 train loss : 0.15\n",
            "目前 test loss : 0.24\n",
            "目前 test accuracy : 0.89\n",
            "epoch : 20\n",
            "目前 train loss : 0.17\n",
            "目前 test loss : 0.25\n",
            "目前 test accuracy : 0.89\n",
            "epoch : 22\n",
            "目前 train loss : 0.15\n",
            "目前 test loss : 0.26\n",
            "目前 test accuracy : 0.88\n",
            "epoch : 24\n",
            "目前 train loss : 0.14\n",
            "目前 test loss : 0.26\n",
            "目前 test accuracy : 0.87\n",
            "epoch : 26\n",
            "目前 train loss : 0.13\n",
            "目前 test loss : 0.23\n",
            "目前 test accuracy : 0.90\n",
            "epoch : 28\n",
            "目前 train loss : 0.13\n",
            "目前 test loss : 0.24\n",
            "目前 test accuracy : 0.88\n",
            "epoch : 30\n",
            "目前 train loss : 0.12\n",
            "目前 test loss : 0.31\n",
            "目前 test accuracy : 0.84\n",
            "epoch : 32\n",
            "目前 train loss : 0.12\n",
            "目前 test loss : 0.24\n",
            "目前 test accuracy : 0.90\n",
            "epoch : 34\n",
            "目前 train loss : 0.13\n",
            "目前 test loss : 0.25\n",
            "目前 test accuracy : 0.89\n",
            "epoch : 36\n",
            "目前 train loss : 0.14\n",
            "目前 test loss : 0.26\n",
            "目前 test accuracy : 0.89\n",
            "epoch : 38\n",
            "目前 train loss : 0.14\n",
            "目前 test loss : 0.25\n",
            "目前 test accuracy : 0.89\n",
            "epoch : 40\n",
            "目前 train loss : 0.11\n",
            "目前 test loss : 0.28\n",
            "目前 test accuracy : 0.88\n",
            "epoch : 42\n",
            "目前 train loss : 0.12\n",
            "目前 test loss : 0.28\n",
            "目前 test accuracy : 0.90\n",
            "epoch : 44\n",
            "目前 train loss : 0.14\n",
            "目前 test loss : 0.27\n",
            "目前 test accuracy : 0.89\n",
            "epoch : 46\n",
            "目前 train loss : 0.13\n",
            "目前 test loss : 0.28\n",
            "目前 test accuracy : 0.89\n",
            "epoch : 48\n",
            "目前 train loss : 0.10\n",
            "目前 test loss : 0.30\n",
            "目前 test accuracy : 0.88\n"
          ],
          "name": "stdout"
        }
      ]
    },
    {
      "cell_type": "code",
      "metadata": {
        "colab": {
          "base_uri": "https://localhost:8080/"
        },
        "id": "K6dISG7ba3we",
        "outputId": "94f0361f-2812-4f3f-9a93-b5a46a34d991"
      },
      "source": [
        "print(classification_report(prediction, y_test_numpy))"
      ],
      "execution_count": 32,
      "outputs": [
        {
          "output_type": "stream",
          "text": [
            "              precision    recall  f1-score   support\n",
            "\n",
            "           0       0.91      0.95      0.93       558\n",
            "           1       0.73      0.57      0.64       127\n",
            "\n",
            "    accuracy                           0.88       685\n",
            "   macro avg       0.82      0.76      0.78       685\n",
            "weighted avg       0.87      0.88      0.88       685\n",
            "\n"
          ],
          "name": "stdout"
        }
      ]
    },
    {
      "cell_type": "code",
      "metadata": {
        "colab": {
          "base_uri": "https://localhost:8080/",
          "height": 265
        },
        "id": "gO3oWSApbEEw",
        "outputId": "bdae84eb-442b-4f0e-a762-23051cee7193"
      },
      "source": [
        "%matplotlib inline\n",
        "plt.plot(np.arange(1, len(test_loss_) + 1), test_loss_)\n",
        "plt.show()"
      ],
      "execution_count": 33,
      "outputs": [
        {
          "output_type": "display_data",
          "data": {
            "image/png": "[encoded data removed]",
            "text/plain": [
              "<Figure size 432x288 with 1 Axes>"
            ]
          },
          "metadata": {
            "tags": [],
            "needs_background": "light"
          }
        }
      ]
    },
    {
      "cell_type": "code",
      "metadata": {
        "colab": {
          "base_uri": "https://localhost:8080/",
          "height": 265
        },
        "id": "TB354LgpbG_3",
        "outputId": "ced69811-8c5d-4b56-8f30-23faf327df7a"
      },
      "source": [
        "%matplotlib inline\n",
        "plt.plot(np.arange(1, len(train_loss_) + 1), train_loss_)\n",
        "plt.show()"
      ],
      "execution_count": 34,
      "outputs": [
        {
          "output_type": "display_data",
          "data": {
            "image/png": "[encoded data removed]",
            "text/plain": [
              "<Figure size 432x288 with 1 Axes>"
            ]
          },
          "metadata": {
            "tags": [],
            "needs_background": "light"
          }
        }
      ]
    },
    {
      "cell_type": "code",
      "metadata": {
        "id": "0xF7ov9BbJV6"
      },
      "source": [
        "saving_location = './model_save.pth'   # './' 代表目前所屬路徑\n",
        "torch.save({'epoch': epoch,\n",
        "            'model_state_dict': model.state_dict(),\n",
        "            'loss': loss_test\n",
        "           }, f=saving_location)"
      ],
      "execution_count": 35,
      "outputs": []
    },
    {
      "cell_type": "code",
      "metadata": {
        "colab": {
          "base_uri": "https://localhost:8080/"
        },
        "id": "ZDZlhyePsWOV",
        "outputId": "b8238d86-c909-4066-9f6f-60f5cc97ed77"
      },
      "source": [
        "model = Model(input_dimension=2000, output_classes=2).to(device)\n",
        "\n",
        "## 載入\n",
        "checkpoint = torch.load(saving_location, map_location=lambda storage, loc: storage)\n",
        "model.load_state_dict(checkpoint['model_state_dict'])\n",
        "print('loading successfully...')\n",
        "print('\\n')\n",
        "\n",
        "model.eval()\n",
        "\n",
        "test_content = ['Congratulations! You Get a Free Handheld Organizer!']\n",
        "test_content = clean_content(test_content)\n",
        "test_content = cv.transform(test_content).toarray()\n",
        "test_content = torch.tensor(test_content, dtype=torch.float32).to(device)\n",
        "output = model(test_content)\n",
        "prediction = softmax(output)\n",
        "prediction = torch.argmax(prediction,1).detach().cpu().numpy()[0]\n",
        "\n",
        "if prediction == 1:\n",
        "    print('Is spam')\n",
        "else:\n",
        "    print('Not spam')"
      ],
      "execution_count": 37,
      "outputs": [
        {
          "output_type": "stream",
          "text": [
            "loading successfully...\n",
            "\n",
            "\n",
            "Is spam\n"
          ],
          "name": "stdout"
        }
      ]
    },
    {
      "cell_type": "code",
      "metadata": {
        "id": "AbBkYQMwsYYe"
      },
      "source": [
        ""
      ],
      "execution_count": null,
      "outputs": []
    }
  ]
}